{
 "cells": [
  {
   "cell_type": "code",
   "execution_count": 1,
   "metadata": {
    "ExecuteTime": {
     "end_time": "2021-06-30T03:55:00.130407Z",
     "start_time": "2021-06-30T03:54:55.433897Z"
    }
   },
   "outputs": [
    {
     "name": "stderr",
     "output_type": "stream",
     "text": [
      "c:\\users\\aucouturier\\appdata\\local\\programs\\python\\python36\\lib\\site-packages\\outdated\\utils.py:18: OutdatedPackageWarning: The package outdated is out of date. Your version is 0.2.0, the latest is 0.2.1.\n",
      "Set the environment variable OUTDATED_IGNORE=1 to disable these warnings.\n",
      "  **kwargs\n"
     ]
    }
   ],
   "source": [
    "import pandas as pd\n",
    "import seaborn as sns\n",
    "import numpy as np\n",
    "import matplotlib.pyplot as plt\n",
    "import matplotlib\n",
    "import glob\n",
    "import pingouin as pg\n",
    "import statsmodels.api as sm"
   ]
  },
  {
   "cell_type": "markdown",
   "metadata": {},
   "source": [
    "# The shallow of your smile: The ethics of expressive vocal deep-fakes\n",
    "Data analysis, Nadia Guerouaou & JJ Aucouturier, 2020"
   ]
  },
  {
   "cell_type": "markdown",
   "metadata": {},
   "source": [
    "## Data preparation"
   ]
  },
  {
   "cell_type": "markdown",
   "metadata": {},
   "source": [
    "N=303  participants  (M=25.7;  female:  156)  took  part  in  an  online  study,  administered  via  Qualtrics  questionnaire  (Qualtrics  International  Inc.,  Seattle,  WA).  In this section, we process the Qualtrics raw data into a pandas dataframe suitable for statistical analysis"
   ]
  },
  {
   "cell_type": "markdown",
   "metadata": {},
   "source": [
    "### Select useful data and merge"
   ]
  },
  {
   "cell_type": "code",
   "execution_count": 2,
   "metadata": {
    "ExecuteTime": {
     "end_time": "2021-06-30T03:55:00.189216Z",
     "start_time": "2021-06-30T03:55:00.131372Z"
    }
   },
   "outputs": [],
   "source": [
    "male_df = pd.read_csv('data/male.csv')\n",
    "female_df = pd.read_csv('data/female.csv')"
   ]
  },
  {
   "cell_type": "code",
   "execution_count": 3,
   "metadata": {
    "ExecuteTime": {
     "end_time": "2021-06-30T03:55:00.200188Z",
     "start_time": "2021-06-30T03:55:00.190215Z"
    }
   },
   "outputs": [],
   "source": [
    "# select useful columns\n",
    "\n",
    "col_demographics = ['id', # non insead participants have NaN id\n",
    "                    'Duration (in seconds)',# to filter highjacking \n",
    "                    'StartDate', # to filter true participants\n",
    "                    'Status', # \"IP Address\"\n",
    "                    'Progress', #100%\n",
    "                    'gender', # check consistency\n",
    "                    'age',\n",
    "                    'Q121', #medical\n",
    "                    'academic background']\n",
    "\n",
    "# PR: prothèse; SE/OT: self/other; LE/RI/FB: left/right/fb; RE/EN: repair/enhance; SM/AN/CO: smile/anxiety/colere\n",
    "col_self_vignettes = ['1-PR-SE-LE-RE-SM-1','1-PR-SE-LE-RE-SM-2','1-PR-SE-LE-RE-SM-3',\n",
    "                      '2-PR-SE-LE-RE-AN-1','2-PR-SE-LE-RE-AN-2','2-PR-SE-LE-RE-AN-3',\n",
    "                      '3-PR-SE-LE-EN-SM-1','3-PR-SE-LE-EN-SM-2','3-PR-SE-LE-EN-SM-3',\n",
    "                      '4-PR-SE-LE-EN-AN-1','4-PR-SE-LE-EN-AN-2','4-PR-SE-LE-EN-AN-3',\n",
    "                      '5-PR-SE-RI-RE-CO-1', '5-PR-SE-RI-RE-CO-2', '5-PR-SE-RI-RE-CO-3',\n",
    "                      '6-PR-SE-RI-RE-SM-1', '6-PR-SE-RI-RE-SM-2', '6-PR-SE-RI-RE-SM-3',\n",
    "                      '7-PR-SE-RI-EN-CO-1', '7-PR-SE-RI-EN-CO-2', '7-PR-SE-RI-EN-CO-3',\n",
    "                      '8-PR-SE-RI-EN-SM-1', '8-PR-SE-RI-EN-SM-2', '8-PR-SE-RI-EN-SM-3',\n",
    "                      '9-PR-SE-FB-RE-AN-1', '9-PR-SE-FB-RE-AN-2', '9-PR-SE-FB-RE-AN-3',\n",
    "                      '10-PR-SE-FB-RE-SM-1', '10-PR-SE-FB-RE-SM-2', '10-PR-SE-FB-RE-SM-3',\n",
    "                      '11-PR-SE-FB-EN-AN-1', '11-PR-SE-FB-EN-AN-2', '11-PR-SE-FB-EN-AN-3',\n",
    "                      '12-PR-SE-FB-EN-SM-1', '12-PR-SE-FB-EN-SM-2', '12-PR-SE-FB-EN-SM-3']\n",
    "\n",
    "col_other_vignettes = ['13-PR-OT-LE-RE-SM-1', '13-PR-OT-LE-RE-SM-2', '13-PR-OT-LE-RE-SM-3',\n",
    "                       '14-PR-OT-LE-RE-AN-1', '14-PR-OT-LE-RE-AN-2', '14-PR-OT-LE-RE-AN-3',\n",
    "                       '15-PR-OT-LE-EN-SM-1', '15-PR-OT-LE-EN-SM-2', '15-PR-OT-LE-EN-SM-3',\n",
    "                       '16-PR-OT-LE-EN-AN-1', '16-PR-OT-LE-EN-AN-2', '16-PR-OT-LE-EN-AN-3',\n",
    "                       '17-PR-OT-RI-RE-CO-1', '17-PR-OT-RI-RE-CO-2', '17-PR-OT-RI-RE-CO-3',\n",
    "                       '18-PR-OT-RI-RE-SM-1', '18-PR-OT-RI-RE-SM-2', '18-PR-OT-RI-RE-SM-3',\n",
    "                       '19-PR-OT-RI-EN-CO-1', '19-PR-OT-RI-EN-CO-2', '19-PR-OT-RI-EN-CO-3',\n",
    "                       '20-PR-OT-RI-EN-SM-1', '20-PR-OT-RI-EN-SM-2', '20-PR-OT-RI-EN-SM-3',\n",
    "                       '21-PR-OT-FB-RE-AN-1', '21-PR-OT-FB-RE-AN-2', '21-PR-OT-FB-RE-AN-3',\n",
    "                       '22-PR-OT-FB-RE-SM-1', '22-PR-OT-FB-RE-SM-2', '22-PR-OT-FB-RE-SM-3',\n",
    "                       '23-PR-OT-FB-EN-AN-1', '23-PR-OT-FB-EN-AN-2', '23-PR-OT-FB-EN-AN-3',\n",
    "                       '24-PR-OT-FB-EN-SM-1', '24-PR-OT-FB-EN-SM-2', '24-PR-OT-FB-EN-SM-3']\n",
    "\n",
    "col_MFQ = ['NN-1', 'NN-2', 'NN-3', 'NN-4','NN-5','NN-6', #noharm\n",
    "           'EQ-1', 'EQ-2','EQ-3','EQ-4','EQ-5', #equity\n",
    "           'LO-1', 'LO-2','LO-3','LO-4','LO-5','LO-6', #loyalty\n",
    "           'AU-1', 'AU-2','AU-3','AU-4','AU-6',#autority\n",
    "           'PU-1', 'PU-2','PU-3','PU-4','PU-5','PU-6',#purity\n",
    "           'DE-1', 'DE-2'] # decoy\n",
    "\n",
    "col_SF = ['SF1', 'SF2', 'SF3', 'SF4', 'SF5', 'SF6', \n",
    "          'SF7', 'SF8', 'SF9', 'SF10', 'SF11', 'SF12']\n",
    "\n",
    "female_df = female_df[col_demographics\n",
    "                      +col_self_vignettes\n",
    "                      +col_other_vignettes\n",
    "                      +col_MFQ\n",
    "                      +col_SF]\n",
    "male_df = male_df[col_demographics\n",
    "                      +col_self_vignettes\n",
    "                      +col_other_vignettes\n",
    "                      +col_MFQ\n",
    "                      +col_SF]\n"
   ]
  },
  {
   "cell_type": "code",
   "execution_count": 4,
   "metadata": {
    "ExecuteTime": {
     "end_time": "2021-06-30T03:55:00.210162Z",
     "start_time": "2021-06-30T03:55:00.201184Z"
    }
   },
   "outputs": [],
   "source": [
    "# real data starts at index 2: index 0 is the display text (incl. vignette texte), \n",
    "# index 1 is the internal question code\n",
    "female_df = female_df.loc[2:,:]\n",
    "male_df = male_df.loc[2:,:]"
   ]
  },
  {
   "cell_type": "code",
   "execution_count": 5,
   "metadata": {
    "ExecuteTime": {
     "end_time": "2021-06-30T03:55:00.221131Z",
     "start_time": "2021-06-30T03:55:00.211171Z"
    }
   },
   "outputs": [],
   "source": [
    "# keep only Status == \"IP Address\" (ie. accessed via insead link) and id not null\n",
    "female_df = female_df[(female_df.Status == \"IP Address\")\n",
    "                     & (~ female_df.id.isnull())]\n",
    "male_df = male_df[(male_df.Status == \"IP Address\")\n",
    "                     & (~ male_df.id.isnull())]"
   ]
  },
  {
   "cell_type": "code",
   "execution_count": 6,
   "metadata": {
    "ExecuteTime": {
     "end_time": "2021-06-30T03:55:00.233132Z",
     "start_time": "2021-06-30T03:55:00.222131Z"
    }
   },
   "outputs": [
    {
     "name": "stdout",
     "output_type": "stream",
     "text": [
      "gender\n",
      "Une femme    163\n",
      "Name: id, dtype: int64\n",
      "gender\n",
      "Autre         1\n",
      "Un homme    158\n",
      "Name: id, dtype: int64\n"
     ]
    }
   ],
   "source": [
    "# all female data declared female, all but one male data declared male (remove)\n",
    "print(female_df.groupby(['gender']).id.count())\n",
    "print(male_df.groupby(['gender']).id.count())\n",
    "male_df = male_df[male_df.gender == \"Un homme\"]"
   ]
  },
  {
   "cell_type": "code",
   "execution_count": 7,
   "metadata": {
    "ExecuteTime": {
     "end_time": "2021-06-30T03:55:00.241078Z",
     "start_time": "2021-06-30T03:55:00.235100Z"
    }
   },
   "outputs": [],
   "source": [
    "# merge male and female participants into a single dataframe\n",
    "data_df = pd.concat([female_df, male_df], ignore_index=True)"
   ]
  },
  {
   "cell_type": "code",
   "execution_count": 8,
   "metadata": {
    "ExecuteTime": {
     "end_time": "2021-06-30T03:55:00.250054Z",
     "start_time": "2021-06-30T03:55:00.244074Z"
    }
   },
   "outputs": [],
   "source": [
    "# recode gender as M/F\n",
    "gender_values ={'Une femme':'F',\n",
    "                'Un homme':'M'}\n",
    "    \n",
    "data_df.gender = data_df.gender.apply(lambda row: gender_values[row] if pd.notnull(row) else row)"
   ]
  },
  {
   "cell_type": "code",
   "execution_count": 9,
   "metadata": {
    "ExecuteTime": {
     "end_time": "2021-06-30T03:55:00.375751Z",
     "start_time": "2021-06-30T03:55:00.252048Z"
    }
   },
   "outputs": [
    {
     "data": {
      "image/png": "[encoded data removed]",
      "text/plain": [
       "<Figure size 432x288 with 1 Axes>"
      ]
     },
     "metadata": {
      "needs_background": "light"
     },
     "output_type": "display_data"
    }
   ],
   "source": [
    "# 3 participants did not complete 100% (99%; 33%; 29%). \n",
    "# 99% corresponds to one last confirmation click (all data saved) : keep; remove other two\n",
    "plt.stem(data_df.Progress, use_line_collection=True)\n",
    "data_df = data_df[~data_df.Progress.isin(['33','29'])]"
   ]
  },
  {
   "cell_type": "markdown",
   "metadata": {},
   "source": [
    "### Recode scale data as float"
   ]
  },
  {
   "cell_type": "code",
   "execution_count": 10,
   "metadata": {
    "ExecuteTime": {
     "end_time": "2021-06-30T03:55:00.430602Z",
     "start_time": "2021-06-30T03:55:00.376716Z"
    }
   },
   "outputs": [
    {
     "name": "stdout",
     "output_type": "stream",
     "text": [
      "[nan '6' '4' '9 - Totalement acceptable'\n",
      " '5 - Ni acceptable, ni inacceptable' '2' '7'\n",
      " '1 - Totalement inacceptable' '8' '3']\n"
     ]
    }
   ],
   "source": [
    "# recode responses as float\n",
    "\n",
    "print(data_df['1-PR-SE-LE-RE-SM-1'].unique())\n",
    "\n",
    "vignette_values = {'6':6,\n",
    "                '4':4,\n",
    "                '9 - Totalement acceptable':9,\n",
    "                '5 - Ni acceptable, ni inacceptable':5,\n",
    "                '2':2,\n",
    "                '7':7,\n",
    "                '1 - Totalement inacceptable':1,\n",
    "                '8':8,\n",
    "                '3':3\n",
    "               }\n",
    "for col in col_self_vignettes + col_other_vignettes:     \n",
    "    data_df[col] = data_df[col].apply(lambda row: vignette_values[row] if pd.notnull(row) else row)\n",
    "    \n"
   ]
  },
  {
   "cell_type": "code",
   "execution_count": 11,
   "metadata": {
    "ExecuteTime": {
     "end_time": "2021-06-30T03:55:00.456537Z",
     "start_time": "2021-06-30T03:55:00.431569Z"
    }
   },
   "outputs": [
    {
     "name": "stdout",
     "output_type": "stream",
     "text": [
      "['4'\n",
      " \"5 - Extrêmement pertinent (C'est un des facteurs les plus importants lorsque je juge le bien et le mal)\"\n",
      " '3'\n",
      " \"1 - Pas du tout pertinent (Cette considération n'a rien à voir avec mon jugement du bien ou de mal)\"\n",
      " '2']\n",
      "['4' '3' \"5 - Fortement d'accord\" '2' '1 - Fortement en désaccord']\n"
     ]
    }
   ],
   "source": [
    "print(data_df['NN-1'].unique())\n",
    "print(data_df['NN-4'].unique())\n",
    "\n",
    "MFQ_values = {'4':4,\n",
    "              \"5 - Extrêmement pertinent (C'est un des facteurs les plus importants lorsque je juge le bien et le mal)\":5,\n",
    "                '3':3,\n",
    "                \"1 - Pas du tout pertinent (Cette considération n'a rien à voir avec mon jugement du bien ou de mal)\":1,\n",
    "                '2':2,\n",
    "                \"5 - Fortement d'accord\":5,\n",
    "                '1 - Fortement en désaccord':1                \n",
    "               }\n",
    "for col in col_MFQ:    \n",
    "    data_df[col] = data_df[col].apply(lambda row: MFQ_values[row] if pd.notnull(row) else row)"
   ]
  },
  {
   "cell_type": "code",
   "execution_count": 12,
   "metadata": {
    "ExecuteTime": {
     "end_time": "2021-06-30T03:55:00.470489Z",
     "start_time": "2021-06-30T03:55:00.457507Z"
    }
   },
   "outputs": [
    {
     "name": "stdout",
     "output_type": "stream",
     "text": [
      "[\"9 - Fortement d'accord\" '8' '7' '2' \"Ni d'accord, ni pas d'accord\" '6'\n",
      " '4' '1 - Fortement en désaccord' '3']\n"
     ]
    }
   ],
   "source": [
    "print(data_df['SF1'].unique())\n",
    "\n",
    "SF_values = {\"Ni d'accord, ni pas d'accord\":5,\n",
    "             '8':8,\n",
    "             \"9 - Fortement d'accord\":9,\n",
    "             '2':2,\n",
    "             '6':6,\n",
    "             '1 - Fortement en désaccord':1,\n",
    "             '7':7,\n",
    "             '4':4,\n",
    "             '3':3}\n",
    "\n",
    "for col in col_SF: \n",
    "    data_df[col] = data_df[col].apply(lambda row: SF_values[row] if pd.notnull(row) else row)\n",
    "    "
   ]
  },
  {
   "cell_type": "markdown",
   "metadata": {},
   "source": [
    "### Melt & pivot conditions"
   ]
  },
  {
   "cell_type": "markdown",
   "metadata": {},
   "source": [
    "Qualtrics raw data lists vignettes as columns, each with a name coding conditions separated by dashes, ex. \n",
    "\n",
    "<table>\n",
    "<thead>\n",
    "  <tr>\n",
    "    <th>subj</th>\n",
    "    <th>1-PRO-SE-LE-RE-SM</th>\n",
    "    <th>1-PRO-SE-LE-RE-AN</th>\n",
    "    <th>...</th>\n",
    "    <th>2-PRO-SE-LE-EN-SM</th>\n",
    "  </tr>\n",
    "</thead>\n",
    "<tbody>\n",
    "  <tr>\n",
    "    <td>1</td>\n",
    "    <td>4.5</td>\n",
    "    <td>3.2</td>\n",
    "    <td>...</td>\n",
    "    <td>5.8</td>\n",
    "  </tr>\n",
    "</tbody>\n",
    "</table>\n",
    "\n",
    "We pivot this data in long format, to list conditions as columns: \n",
    "\n",
    "<table>\n",
    "<thead>\n",
    "  <tr>\n",
    "    <th>subj</th>\n",
    "    <th>vignette</th>\n",
    "    <th>prosthesis_software</th>\n",
    "    <th>self_other</th>\n",
    "    <th>left_right_fb</th>\n",
    "    <th>repair_enhance</th>\n",
    "    <th>smile_anxiety_anger</th>\n",
    "    <th>DV</th>\n",
    "  </tr>\n",
    "</thead>\n",
    "<tbody>\n",
    "  <tr>\n",
    "    <td>1</td>\n",
    "    <td>1</td>\n",
    "    <th>PRO</th>\n",
    "    <th>SE</th>\n",
    "    <th>LE</th>\n",
    "    <th>RE</th>\n",
    "    <th>SM</th>  \n",
    "    <th>4.5</th>        \n",
    "  </tr>\n",
    "    <tr>\n",
    "    <td>1</td>\n",
    "    <td>1</td>\n",
    "    <th>PRO</th>\n",
    "    <th>SE</th>\n",
    "    <th>LE</th>\n",
    "    <th>RE</th>\n",
    "    <th>AN</th>  \n",
    "    <th>3.2</th>        \n",
    "  </tr>\n",
    "    <tr>\n",
    "    <td>1</td>\n",
    "    <td>2</td>\n",
    "    <th>PRO</th>\n",
    "    <th>SE</th>\n",
    "    <th>LE</th>\n",
    "    <th>EN</th>\n",
    "    <th>SM</th>  \n",
    "    <th>5.8</th>        \n",
    "  </tr>\n",
    "</tbody>\n",
    "</table>\n",
    "\n"
   ]
  },
  {
   "cell_type": "code",
   "execution_count": 13,
   "metadata": {
    "ExecuteTime": {
     "end_time": "2021-06-30T03:55:00.737914Z",
     "start_time": "2021-06-30T03:55:00.471462Z"
    }
   },
   "outputs": [],
   "source": [
    "# melt conditions\n",
    "data_df = pd.melt(data_df, \n",
    "        id_vars=col_demographics+col_MFQ+col_SF,\n",
    "        value_vars=col_self_vignettes+col_other_vignettes,\n",
    "        var_name='condition')\n",
    "# extract main condition from values\n",
    "data_df['vignette']=data_df['condition'].apply(lambda row: int(row.split('-')[0]))\n",
    "data_df['prosthesis_software']=data_df['condition'].apply(lambda row: row.split('-')[1])\n",
    "data_df['self_other']=data_df['condition'].apply(lambda row: row.split('-')[2])\n",
    "data_df['left_right_fb']=data_df['condition'].apply(lambda row: row.split('-')[3])\n",
    "data_df['repair_enhance']=data_df['condition'].apply(lambda row: row.split('-')[4])\n",
    "data_df['smile_anxiety_anger']=data_df['condition'].apply(lambda row: row.split('-')[5])\n",
    "question_rename = {'1':'acceptable', # is the situation morally acceptable\n",
    "             '2':'covert_non_instrumente', # is it ok to lie to the person who doesn't have the prosthesis \n",
    "             '3':'covert_instrumente'} # is it ok to lie to the person having the prosthesis\n",
    "data_df['question']=data_df['condition'].apply(lambda row: question_rename[row.split('-')[6]])\n",
    "\n",
    "data_df = data_df.pivot_table(index=col_demographics+col_MFQ+col_SF+['vignette','prosthesis_software', 'self_other', 'left_right_fb', 'repair_enhance', 'smile_anxiety_anger'],\n",
    "                    columns=['question'], values = 'value', aggfunc = 'first', dropna = True).reset_index()\n",
    "\n"
   ]
  },
  {
   "cell_type": "markdown",
   "metadata": {},
   "source": [
    "### Add vignette text to each data point"
   ]
  },
  {
   "cell_type": "markdown",
   "metadata": {},
   "source": [
    "Vignette text is stored in first row of raw data file; collect it and store in each line. "
   ]
  },
  {
   "cell_type": "code",
   "execution_count": 14,
   "metadata": {
    "ExecuteTime": {
     "end_time": "2021-06-30T03:55:00.786862Z",
     "start_time": "2021-06-30T03:55:00.738781Z"
    }
   },
   "outputs": [],
   "source": [
    "female_df = pd.read_csv('data/femmes.csv')\n",
    "# select first row\n",
    "vignettes = female_df[female_df.id=='id']\n",
    "# get vignette number by melting condition\n",
    "vignettes = pd.melt(vignettes, \n",
    "        id_vars=['id'],\n",
    "        value_vars=col_self_vignettes+col_other_vignettes,\n",
    "        var_name='condition')\n",
    "vignettes['id_vignette'] = vignettes['condition'].apply(lambda x: int(x.split('-')[0]))\n",
    "vignettes['question'] = vignettes['condition'].apply(lambda x: x.split('-')[6])\n",
    "# clean \n",
    "vignettes = vignettes[vignettes.question=='1'].drop(columns=['id','condition','question']) \\\n",
    "            .rename(columns={'value':'text'}).reset_index(drop=True)\n",
    "# trim text\n",
    "vignettes['text'] = vignettes['text'].apply(lambda x: x.split('\\n\\n\\n\\n')[0])\n",
    "\n",
    "# merge with data\n",
    "data_df = pd.merge(left=data_df, left_on='vignette',\n",
    "         right=vignettes, right_on='id_vignette')\n"
   ]
  },
  {
   "cell_type": "markdown",
   "metadata": {},
   "source": [
    "### Clean up column names"
   ]
  },
  {
   "cell_type": "code",
   "execution_count": 15,
   "metadata": {
    "ExecuteTime": {
     "end_time": "2021-06-30T03:55:00.792848Z",
     "start_time": "2021-06-30T03:55:00.787861Z"
    }
   },
   "outputs": [],
   "source": [
    "data_df = data_df.rename(columns={'Duration (in seconds)':'duration',\n",
    "                                  'StartDate':'start_date',\n",
    "                                  'Status':'status',\n",
    "                                  'Progress':'progress',\n",
    "                                  'Q121':'medical_background',\n",
    "                                  'academic background':'academic_background'})"
   ]
  },
  {
   "cell_type": "markdown",
   "metadata": {},
   "source": [
    "### Group MFQ and SF items"
   ]
  },
  {
   "cell_type": "code",
   "execution_count": 16,
   "metadata": {
    "ExecuteTime": {
     "end_time": "2021-06-30T03:55:00.822768Z",
     "start_time": "2021-06-30T03:55:00.793845Z"
    }
   },
   "outputs": [
    {
     "name": "stdout",
     "output_type": "stream",
     "text": [
      "N: 308\n",
      "NN : alpha = 0.54 [0.461 0.619]\n",
      "EQ : alpha = 0.66 [0.591 0.713]\n",
      "LO : alpha = 0.64 [0.577 0.701]\n",
      "AU : alpha = 0.69 [0.627 0.738]\n",
      "PU : alpha = 0.75 [0.707 0.793]\n",
      "SF : alpha = 0.90 [0.878 0.912]\n"
     ]
    }
   ],
   "source": [
    "# cronbach alpha\n",
    "\n",
    "constructs_df = data_df.groupby(['id'])[col_MFQ+col_SF].mean().reset_index()\n",
    "\n",
    "print('N: %d'%constructs_df.id.nunique())\n",
    "print(\"NN : alpha = %.2f %s\"%pg.cronbach_alpha(data=constructs_df[['NN-1','NN-2','NN-3','NN-4','NN-5','NN-6']]))\n",
    "print(\"EQ : alpha = %.2f %s\"%pg.cronbach_alpha(data=constructs_df[['EQ-1','EQ-2','EQ-3','EQ-4','EQ-5']]))\n",
    "print('LO : alpha = %.2f %s'%pg.cronbach_alpha(data=constructs_df[['LO-1','LO-2','LO-3','LO-4','LO-5','LO-6']]))\n",
    "print('AU : alpha = %.2f %s'%pg.cronbach_alpha(data=constructs_df[['AU-1','AU-2','AU-3','AU-4','AU-6']]))\n",
    "print('PU : alpha = %.2f %s'%pg.cronbach_alpha(data=constructs_df[['PU-1','PU-2','PU-3','PU-4','PU-5','PU-6']]))\n",
    "print('SF : alpha = %.2f %s'%pg.cronbach_alpha(data=constructs_df[['SF1','SF2','SF3','SF4','SF5',\n",
    "                                             'SF6','SF7','SF8','SF9','SF10',\n",
    "                                            'SF11','SF12']]))\n"
   ]
  },
  {
   "cell_type": "code",
   "execution_count": 17,
   "metadata": {
    "ExecuteTime": {
     "end_time": "2021-06-30T03:55:00.837728Z",
     "start_time": "2021-06-30T03:55:00.823765Z"
    }
   },
   "outputs": [],
   "source": [
    "# MFQ and SFH items are all positive factors (ie. none reverse-coded)\n",
    "# Métayer, S., & Pahlavan, F. (2014). Validation of the Moral Foundations Questionnaire in French. Revue internationale de psychologie sociale, 27(2), 79-107.\n",
    "\n",
    "data_df['MFQ_NN'] = data_df['NN-1'] + data_df['NN-2'] + data_df['NN-3'] \\\n",
    "                    + data_df['NN-4'] + data_df['NN-5'] + data_df['NN-6']\n",
    "\n",
    "\n",
    "data_df['MFQ_EQ'] = data_df['EQ-1'] + data_df['EQ-2'] + data_df['EQ-3'] \\\n",
    "                    + data_df['EQ-4'] + data_df['EQ-5'] #EQ-6 removed from MFQ-French (Métayer 2014)\n",
    "\n",
    "\n",
    "data_df['MFQ_LO'] = data_df['LO-1'] + data_df['LO-2'] + data_df['LO-3'] \\\n",
    "                    + data_df['LO-4'] + data_df['LO-5'] + data_df['LO-6']\n",
    "\n",
    "\n",
    "data_df['MFQ_AU'] = data_df['AU-1'] + data_df['AU-2'] + data_df['AU-3'] \\\n",
    "                    + data_df['AU-4'] + data_df['AU-6'] #AU-5 removed from MFQ-French (Métayer 2014)\n",
    "\n",
    "\n",
    "data_df['MFQ_PU'] = data_df['PU-1'] + data_df['PU-2'] + data_df['PU-3'] \\\n",
    "                    + data_df['PU-4'] + data_df['PU-5'] + data_df['PU-6']\n",
    "\n",
    "\n",
    "data_df['SF'] = data_df['SF1'] + data_df['SF2'] + data_df['SF3'] \\\n",
    "                    + data_df['SF4'] + data_df['SF5'] + data_df['SF6'] \\\n",
    "                    + data_df['SF7'] + data_df['SF8'] + data_df['SF9'] \\\n",
    "                    + data_df['SF10'] + data_df['SF11'] + data_df['SF12']\n",
    "\n"
   ]
  },
  {
   "cell_type": "code",
   "execution_count": 18,
   "metadata": {
    "ExecuteTime": {
     "end_time": "2021-06-30T03:55:00.846704Z",
     "start_time": "2021-06-30T03:55:00.838725Z"
    }
   },
   "outputs": [
    {
     "name": "stdout",
     "output_type": "stream",
     "text": [
      "decoy participants: 2\n"
     ]
    }
   ],
   "source": [
    "# Remove participants for whom DE-1 > DE-2\n",
    "# cf. \"Les auteurs conseillent de ne pas prendre en compte les participants pour lesquels être bon en math est plus important que faire le bien\n",
    "# Métayer & Pahlavan, 2014\n",
    "print(\"decoy participants: \"+str(data_df[data_df['DE-1']>data_df['DE-2']].id.nunique()))\n",
    "data_df = data_df[data_df['DE-1']<data_df['DE-2']]"
   ]
  },
  {
   "cell_type": "code",
   "execution_count": 19,
   "metadata": {
    "ExecuteTime": {
     "end_time": "2021-06-30T03:55:00.852688Z",
     "start_time": "2021-06-30T03:55:00.847701Z"
    }
   },
   "outputs": [],
   "source": [
    "data_df = data_df.drop(columns=col_MFQ+col_SF+['id_vignette'])"
   ]
  },
  {
   "cell_type": "markdown",
   "metadata": {},
   "source": [
    "### New condition categories"
   ]
  },
  {
   "cell_type": "markdown",
   "metadata": {},
   "source": [
    "Whether vignettes manipulate the participant's voice or the voice heard by the participant depends on the combination of conditions (self/other, and left_right_fb). We recode these conditions accordingly. "
   ]
  },
  {
   "cell_type": "code",
   "execution_count": 20,
   "metadata": {
    "ExecuteTime": {
     "end_time": "2021-06-30T03:55:00.861663Z",
     "start_time": "2021-06-30T03:55:00.853685Z"
    }
   },
   "outputs": [],
   "source": [
    "# whose voice is transformed\n",
    "transformed_voice = {'SE-LE':'participant', # participant wears a voice changer\n",
    "                     'SE-RI':'other', # participant wears an ear prosthesis\n",
    "                     'SE-FB':'participant', # participant wears a voice changer\n",
    "                     'OT-LE':'other', # other wears a voice changer\n",
    "                     'OT-RI':'participant', # other wears an ear prosthesis\n",
    "                     'OT-FB':'other'} # other wears a voice changer\n",
    "\n",
    "data_df['code'] = data_df['self_other']+'-'+data_df['left_right_fb']\n",
    "\n",
    "data_df['transformed_voice'] = data_df.code.apply(lambda x: transformed_voice[x]) \n"
   ]
  },
  {
   "cell_type": "code",
   "execution_count": 21,
   "metadata": {
    "ExecuteTime": {
     "end_time": "2021-06-30T03:55:00.870639Z",
     "start_time": "2021-06-30T03:55:00.862661Z"
    }
   },
   "outputs": [],
   "source": [
    "# whose perception is manipulated (who's hearing the transformed voice)\n",
    "manipulated_perception = {'SE-LE':'other',\n",
    "                          'SE-RI':'participant',\n",
    "                          'SE-FB':'participant',\n",
    "                          'OT-LE':'participant',\n",
    "                          'OT-RI':'other',\n",
    "                          'OT-FB':'other'}\n",
    "\n",
    "data_df['manipulated_perception'] = data_df.code.apply(lambda x: manipulated_perception[x]) "
   ]
  },
  {
   "cell_type": "code",
   "execution_count": 22,
   "metadata": {
    "ExecuteTime": {
     "end_time": "2021-06-30T03:55:00.879616Z",
     "start_time": "2021-06-30T03:55:00.871637Z"
    }
   },
   "outputs": [],
   "source": [
    "data_df = data_df.drop(columns=['code'])"
   ]
  },
  {
   "cell_type": "code",
   "execution_count": 23,
   "metadata": {
    "ExecuteTime": {
     "end_time": "2021-06-30T03:55:00.887594Z",
     "start_time": "2021-06-30T03:55:00.882608Z"
    }
   },
   "outputs": [],
   "source": [
    "# who wears the prosthesis\n",
    "instrumente = {'SE':'participant',\n",
    "               'OT':'other'}\n",
    "data_df['instrumente'] = data_df.self_other.apply(lambda x: instrumente[x]) "
   ]
  },
  {
   "cell_type": "code",
   "execution_count": 24,
   "metadata": {
    "ExecuteTime": {
     "end_time": "2021-06-30T03:55:00.896571Z",
     "start_time": "2021-06-30T03:55:00.889590Z"
    }
   },
   "outputs": [],
   "source": [
    "# add a new condition which groups negative transforms (i.e. which operate on negative emotions, by making them less negative) under the \"NEG\" condition\n",
    "# making them the same nb of vignette as SMI (which is termed POS)\n",
    "data_df.groupby(['smile_anxiety_anger']).vignette.nunique()\n",
    "transformation_values={'SM':'POS',\n",
    "                       'AN':'NEG',\n",
    "                       'CO':'NEG'}\n",
    "data_df['transformation'] = data_df['smile_anxiety_anger'].apply(lambda x : transformation_values[x])\n"
   ]
  },
  {
   "cell_type": "code",
   "execution_count": 25,
   "metadata": {
    "ExecuteTime": {
     "end_time": "2021-06-30T03:55:00.988325Z",
     "start_time": "2021-06-30T03:55:00.897568Z"
    }
   },
   "outputs": [],
   "source": [
    "# save in separate df if needed (2 lines per id,vignette)\n",
    "data_df.drop(columns=['covert_instrumente','covert_non_instrumente']).to_csv('data/data_acceptable.csv')"
   ]
  },
  {
   "cell_type": "markdown",
   "metadata": {},
   "source": [
    "### Covert conditions"
   ]
  },
  {
   "cell_type": "markdown",
   "metadata": {},
   "source": [
    "The study includes two DVs: (1) whether the situation is acceptable, and (2) whether it is acceptable to conceal the use of the device in that situation. DV2 (covert use) is collected in the survey as two separate questions (is it acceptable to lie to the person using the device; vs to lie to others about the device). Here, we code these two questions as a single DV (covert), linked to two conditions (either covert_instrument = yes/no, or covert_person = participant/other)"
   ]
  },
  {
   "cell_type": "code",
   "execution_count": 26,
   "metadata": {
    "ExecuteTime": {
     "end_time": "2021-06-30T03:55:01.013258Z",
     "start_time": "2021-06-30T03:55:00.989322Z"
    }
   },
   "outputs": [],
   "source": [
    "# judgements about lying to the covert_instrumente (instrumente/non_instrumente) are in covert_instrumente_judgement\n",
    "col_covert = ['covert_instrumente', 'covert_non_instrumente']\n",
    "columns = list(data_df.columns)\n",
    "for col in col_covert: \n",
    "    columns.remove(col)\n",
    "covert_instrumente_data=pd.melt(data_df,\n",
    "                id_vars=columns,\n",
    "                value_vars=col_covert,\n",
    "                var_name='covert_instrumente',\n",
    "                value_name='covert_instrumente_judgement')\n",
    "covert_instrumente_data.covert_instrumente = covert_instrumente_data.covert_instrumente.apply(lambda x: x.split('_')[1])\n"
   ]
  },
  {
   "cell_type": "code",
   "execution_count": 27,
   "metadata": {
    "ExecuteTime": {
     "end_time": "2021-06-30T03:55:01.017248Z",
     "start_time": "2021-06-30T03:55:01.014255Z"
    }
   },
   "outputs": [],
   "source": [
    "# save in separate df if needed (2 lines per id,vignette)\n",
    "#covert_instrumente_data.drop(columns=['acceptable']).to_csv('data/data_covert_instrumente.csv')"
   ]
  },
  {
   "cell_type": "code",
   "execution_count": 28,
   "metadata": {
    "ExecuteTime": {
     "end_time": "2021-06-30T03:55:01.029216Z",
     "start_time": "2021-06-30T03:55:01.018245Z"
    }
   },
   "outputs": [],
   "source": [
    "# morality of lying to the participant\n",
    "data_df.loc[data_df.self_other=='SE', \n",
    "            'covert_participant'] = data_df['covert_instrumente']\n",
    "data_df.loc[data_df.self_other=='OT', \n",
    "            'covert_participant'] = data_df['covert_non_instrumente']\n",
    "\n",
    "#  morality of lying to the other\n",
    "data_df.loc[data_df.self_other=='SE', \n",
    "            'covert_other'] = data_df['covert_non_instrumente']\n",
    "data_df.loc[data_df.self_other=='OT', \n",
    "            'covert_other'] = data_df['covert_instrumente']\n",
    "\n",
    "data_df=data_df.drop(columns=['covert_instrumente','covert_non_instrumente'])"
   ]
  },
  {
   "cell_type": "code",
   "execution_count": 29,
   "metadata": {
    "ExecuteTime": {
     "end_time": "2021-06-30T03:55:01.054149Z",
     "start_time": "2021-06-30T03:55:01.030213Z"
    }
   },
   "outputs": [],
   "source": [
    "# judgements about lying to the covert_person (participant/other) are in covert_person_judgement\n",
    "col_covert = ['covert_participant', 'covert_other']\n",
    "columns = list(data_df.columns)\n",
    "for col in col_covert: \n",
    "    columns.remove(col)\n",
    "covert_person_data=pd.melt(data_df,\n",
    "                id_vars=columns,\n",
    "                value_vars=col_covert,\n",
    "                var_name='covert_person',\n",
    "                value_name='covert_person_judgement')\n",
    "covert_person_data.covert_person = covert_person_data.covert_person.apply(lambda x: x.split('_')[1])"
   ]
  },
  {
   "cell_type": "code",
   "execution_count": 30,
   "metadata": {
    "ExecuteTime": {
     "end_time": "2021-06-30T03:55:01.216740Z",
     "start_time": "2021-06-30T03:55:01.055146Z"
    }
   },
   "outputs": [],
   "source": [
    "# save in separate df if needed (2 lines per id,vignette)\n",
    "covert_person_data.drop(columns=['acceptable']).to_csv('data/data_covert_person.csv')"
   ]
  },
  {
   "cell_type": "code",
   "execution_count": 31,
   "metadata": {
    "ExecuteTime": {
     "end_time": "2021-06-30T03:55:01.233705Z",
     "start_time": "2021-06-30T03:55:01.217711Z"
    }
   },
   "outputs": [],
   "source": [
    "# make a single df with 2 lines per id, vignette\n",
    "data_df = pd.merge(left=covert_person_data,\n",
    "         left_index=True,\n",
    "         right=covert_instrumente_data[['covert_instrumente','covert_instrumente_judgement']],\n",
    "         right_index=True).sort_values(by=['id','vignette'])"
   ]
  },
  {
   "cell_type": "markdown",
   "metadata": {},
   "source": [
    "Prepared data is stored into a single csv file, which is used for all subsequent analysis"
   ]
  },
  {
   "cell_type": "code",
   "execution_count": 32,
   "metadata": {
    "ExecuteTime": {
     "end_time": "2021-06-30T03:55:01.400383Z",
     "start_time": "2021-06-30T03:55:01.234666Z"
    }
   },
   "outputs": [],
   "source": [
    "data_df.to_csv('data/data.csv')"
   ]
  },
  {
   "cell_type": "markdown",
   "metadata": {},
   "source": [
    "## Demographics"
   ]
  },
  {
   "cell_type": "code",
   "execution_count": 33,
   "metadata": {
    "ExecuteTime": {
     "end_time": "2021-06-30T03:55:01.454110Z",
     "start_time": "2021-06-30T03:55:01.401220Z"
    }
   },
   "outputs": [],
   "source": [
    "data_df = pd.read_csv('data/data.csv', index_col=0)"
   ]
  },
  {
   "cell_type": "code",
   "execution_count": 34,
   "metadata": {
    "ExecuteTime": {
     "end_time": "2021-06-30T03:55:01.464054Z",
     "start_time": "2021-06-30T03:55:01.455076Z"
    }
   },
   "outputs": [
    {
     "name": "stdout",
     "output_type": "stream",
     "text": [
      "['24' '22' '23' '28' '30' '26' '35' '21' '31' '25' '27' '29' '26 ans' '50'\n",
      " '43' '20' '54' '18' '52' '36' '25 ANS' '22 ans' '41' '33' '44' '19' '32'\n",
      " '20 ' '23 ' '55' '34' '21 ans' '40' '18 ans' '38' '39' '75' '46' '57']\n"
     ]
    }
   ],
   "source": [
    "# recode age as float\n",
    "print(data_df.age.unique())\n",
    "age_values = {'26 ans':26,\n",
    "                '25 ANS':25,\n",
    "                '22 ans':22,\n",
    "                '21 ans':21,\n",
    "                '18 ans':18}\n",
    "data_df.age = data_df.age.apply(lambda value: age_values[value] if value in age_values else float(value))\n",
    "    "
   ]
  },
  {
   "cell_type": "code",
   "execution_count": 35,
   "metadata": {
    "ExecuteTime": {
     "end_time": "2021-06-30T03:55:01.473063Z",
     "start_time": "2021-06-30T03:55:01.465050Z"
    }
   },
   "outputs": [
    {
     "data": {
      "text/plain": [
       "count    303.000000\n",
       "mean      25.755776\n",
       "std        7.436247\n",
       "min       18.000000\n",
       "25%       21.000000\n",
       "50%       24.000000\n",
       "75%       28.000000\n",
       "max       75.000000\n",
       "Name: age, dtype: float64"
      ]
     },
     "execution_count": 35,
     "metadata": {},
     "output_type": "execute_result"
    }
   ],
   "source": [
    "data_df.groupby(['id']).age.mean().describe()"
   ]
  },
  {
   "cell_type": "code",
   "execution_count": 36,
   "metadata": {
    "ExecuteTime": {
     "end_time": "2021-06-30T03:55:01.480043Z",
     "start_time": "2021-06-30T03:55:01.474026Z"
    }
   },
   "outputs": [
    {
     "data": {
      "text/plain": [
       "self_other\n",
       "OT    153\n",
       "SE    150\n",
       "Name: id, dtype: int64"
      ]
     },
     "execution_count": 36,
     "metadata": {},
     "output_type": "execute_result"
    }
   ],
   "source": [
    "data_df.groupby(['self_other']).id.nunique()"
   ]
  },
  {
   "cell_type": "code",
   "execution_count": 37,
   "metadata": {
    "ExecuteTime": {
     "end_time": "2021-06-30T03:55:01.486010Z",
     "start_time": "2021-06-30T03:55:01.481007Z"
    }
   },
   "outputs": [
    {
     "data": {
      "text/plain": [
       "medical_background\n",
       "non    276\n",
       "oui     27\n",
       "Name: id, dtype: int64"
      ]
     },
     "execution_count": 37,
     "metadata": {},
     "output_type": "execute_result"
    }
   ],
   "source": [
    "data_df.groupby(['medical_background']).id.nunique()"
   ]
  },
  {
   "cell_type": "code",
   "execution_count": 38,
   "metadata": {
    "ExecuteTime": {
     "end_time": "2021-06-30T03:55:01.493972Z",
     "start_time": "2021-06-30T03:55:01.486991Z"
    }
   },
   "outputs": [
    {
     "data": {
      "text/plain": [
       "academic_background\n",
       "Bac + 1                                     23\n",
       "Bac + 2, diplôme de BTS, DUT, DEUST ...     34\n",
       "Bac + 3 : Licence                           97\n",
       "Bac + 5 : Master                           115\n",
       "Brevet des collèges                          2\n",
       "Diplôme de baccalauréat                     31\n",
       "Doctorat                                     1\n",
       "Name: id, dtype: int64"
      ]
     },
     "execution_count": 38,
     "metadata": {},
     "output_type": "execute_result"
    }
   ],
   "source": [
    "data_df.groupby(['academic_background']).id.nunique()"
   ]
  },
  {
   "cell_type": "markdown",
   "metadata": {},
   "source": [
    "## Results"
   ]
  },
  {
   "cell_type": "markdown",
   "metadata": {},
   "source": [
    "### Acceptability of overtly using the technology"
   ]
  },
  {
   "cell_type": "markdown",
   "metadata": {},
   "source": [
    "#### Voice transformations are in general well accepted in the population"
   ]
  },
  {
   "cell_type": "markdown",
   "metadata": {},
   "source": [
    "Across all situations, mean acceptability M=6.49"
   ]
  },
  {
   "cell_type": "code",
   "execution_count": 39,
   "metadata": {
    "ExecuteTime": {
     "end_time": "2021-06-30T03:55:01.638585Z",
     "start_time": "2021-06-30T03:55:01.494970Z"
    },
    "scrolled": true
   },
   "outputs": [
    {
     "name": "stdout",
     "output_type": "stream",
     "text": [
      "M=6.49\n"
     ]
    },
    {
     "data": {
      "text/html": [
       "<div>\n",
       "<style scoped>\n",
       "    .dataframe tbody tr th:only-of-type {\n",
       "        vertical-align: middle;\n",
       "    }\n",
       "\n",
       "    .dataframe tbody tr th {\n",
       "        vertical-align: top;\n",
       "    }\n",
       "\n",
       "    .dataframe thead th {\n",
       "        text-align: right;\n",
       "    }\n",
       "</style>\n",
       "<table border=\"1\" class=\"dataframe\">\n",
       "  <thead>\n",
       "    <tr style=\"text-align: right;\">\n",
       "      <th></th>\n",
       "      <th>T</th>\n",
       "      <th>dof</th>\n",
       "      <th>tail</th>\n",
       "      <th>p-val</th>\n",
       "      <th>CI95%</th>\n",
       "      <th>cohen-d</th>\n",
       "      <th>BF10</th>\n",
       "      <th>power</th>\n",
       "    </tr>\n",
       "  </thead>\n",
       "  <tbody>\n",
       "    <tr>\n",
       "      <th>T-test</th>\n",
       "      <td>14.647582</td>\n",
       "      <td>302</td>\n",
       "      <td>two-sided</td>\n",
       "      <td>4.479723e-37</td>\n",
       "      <td>[6.29, 6.69]</td>\n",
       "      <td>0.841482</td>\n",
       "      <td>5.572e+33</td>\n",
       "      <td>1.0</td>\n",
       "    </tr>\n",
       "  </tbody>\n",
       "</table>\n",
       "</div>"
      ],
      "text/plain": [
       "                T  dof       tail         p-val         CI95%   cohen-d  \\\n",
       "T-test  14.647582  302  two-sided  4.479723e-37  [6.29, 6.69]  0.841482   \n",
       "\n",
       "             BF10  power  \n",
       "T-test  5.572e+33    1.0  "
      ]
     },
     "execution_count": 39,
     "metadata": {},
     "output_type": "execute_result"
    },
    {
     "data": {
      "image/png": "[encoded data removed]",
      "text/plain": [
       "<Figure size 432x288 with 1 Axes>"
      ]
     },
     "metadata": {
      "needs_background": "light"
     },
     "output_type": "display_data"
    }
   ],
   "source": [
    "sns.pointplot(data=data_df, \n",
    "             y='acceptable')\n",
    "print('M=%.2f'%data_df.acceptable.mean())\n",
    "pg.ttest(data_df.groupby(['id']).acceptable.mean(),5)"
   ]
  },
  {
   "cell_type": "markdown",
   "metadata": {},
   "source": [
    "Association with MFQ/SFH"
   ]
  },
  {
   "cell_type": "code",
   "execution_count": 40,
   "metadata": {
    "ExecuteTime": {
     "end_time": "2021-06-30T03:55:01.768308Z",
     "start_time": "2021-06-30T03:55:01.639583Z"
    }
   },
   "outputs": [
    {
     "name": "stdout",
     "output_type": "stream",
     "text": [
      "Heteroscedasticity:\n",
      "F(6,296)=3.24, p=0.0043\n",
      "\n",
      "                    Robust linear Model Regression Results                    \n",
      "==============================================================================\n",
      "Dep. Variable:             acceptable   No. Observations:                  303\n",
      "Model:                            RLM   Df Residuals:                      296\n",
      "Method:                          IRLS   Df Model:                            6\n",
      "Norm:                          HuberT                                         \n",
      "Scale Est.:                       mad                                         \n",
      "Cov Type:                          H3                                         \n",
      "Date:                Wed, 30 Jun 2021                                         \n",
      "Time:                        05:55:01                                         \n",
      "No. Iterations:                    22                                         \n",
      "==============================================================================\n",
      "                 coef    std err          z      P>|z|      [0.025      0.975]\n",
      "------------------------------------------------------------------------------\n",
      "const          3.6878      0.847      4.356      0.000       2.029       5.347\n",
      "MFQ_NN         0.0577      0.035      1.645      0.100      -0.011       0.126\n",
      "MFQ_EQ         0.0146      0.039      0.376      0.707      -0.061       0.091\n",
      "MFQ_LO        -0.0272      0.029     -0.921      0.357      -0.085       0.031\n",
      "MFQ_AU         0.0246      0.032      0.759      0.448      -0.039       0.088\n",
      "MFQ_PU         0.0411      0.022      1.853      0.064      -0.002       0.085\n",
      "SF             0.0141      0.005      2.753      0.006       0.004       0.024\n",
      "==============================================================================\n",
      "\n",
      "If the model instance has been used for another fit with different fit parameters, then the fit options might not be the correct ones anymore .\n"
     ]
    },
    {
     "data": {
      "image/png": "[encoded data removed]",
      "text/plain": [
       "<Figure size 432x288 with 1 Axes>"
      ]
     },
     "metadata": {
      "needs_background": "light"
     },
     "output_type": "display_data"
    }
   ],
   "source": [
    "factors = ['MFQ_NN', 'MFQ_EQ', 'MFQ_LO', 'MFQ_AU', 'MFQ_PU', 'SF']\n",
    "\n",
    "agg_dict = {factor:'first' for factor in factors}\n",
    "agg_dict.update({'acceptable':'mean'})\n",
    "a = data_df.groupby(['id']).agg(agg_dict).reset_index()\n",
    "\n",
    "# Robust linear regression ()\n",
    "x_fit = sm.add_constant(a[factors])\n",
    "rlm_model = sm.RLM(a.acceptable,\n",
    "                   x_fit,\n",
    "                   M=sm.robust.norms.HuberT())\n",
    "rlm_results = rlm_model.fit(cov='H3')\n",
    "\n",
    "# homoscedasticity\n",
    "bp = sm.stats.diagnostic.het_breuschpagan(rlm_results.resid, rlm_results.model.exog)\n",
    "print('Heteroscedasticity:\\nF(%d,%d)=%.2f, p=%.4f\\n'%(rlm_results.df_model,\n",
    "                               rlm_results.df_resid,\n",
    "                               bp[2],bp[3]))\n",
    "\n",
    "plt.plot(rlm_results.resid, rlm_results.fittedvalues,'.')\n",
    "plt.xlabel('Residuals')\n",
    "plt.ylabel('Predictions')\n",
    "\n",
    "print(rlm_results.summary())\n"
   ]
  },
  {
   "cell_type": "code",
   "execution_count": 41,
   "metadata": {
    "ExecuteTime": {
     "end_time": "2021-06-30T03:55:01.992711Z",
     "start_time": "2021-06-30T03:55:01.769279Z"
    }
   },
   "outputs": [
    {
     "data": {
      "text/plain": [
       "Text(16.424999999999997, 0.5, 'Acceptability of overt use')"
      ]
     },
     "execution_count": 41,
     "metadata": {},
     "output_type": "execute_result"
    },
    {
     "data": {
      "image/png": "[encoded data removed]",
      "text/plain": [
       "<Figure size 360x360 with 1 Axes>"
      ]
     },
     "metadata": {
      "needs_background": "light"
     },
     "output_type": "display_data"
    }
   ],
   "source": [
    "axs=sns.lmplot(x=\"MFQ_PU\", \n",
    "           y=\"acceptable\",               \n",
    "               scatter_kws={\"color\":'k'},\n",
    "               line_kws={\"color\":'k'},\n",
    "               x_jitter=0.5,\n",
    "              data= a)\n",
    "plt.xlabel('MFQ Purity')\n",
    "plt.ylabel('Acceptability of overt use')\n"
   ]
  },
  {
   "cell_type": "code",
   "execution_count": 42,
   "metadata": {
    "ExecuteTime": {
     "end_time": "2021-06-30T03:55:02.255022Z",
     "start_time": "2021-06-30T03:55:01.993723Z"
    }
   },
   "outputs": [
    {
     "data": {
      "text/plain": [
       "Text(16.424999999999997, 0.5, 'Acceptability of overt use')"
      ]
     },
     "execution_count": 42,
     "metadata": {},
     "output_type": "execute_result"
    },
    {
     "data": {
      "image/png": "[encoded data removed]",
      "text/plain": [
       "<Figure size 360x360 with 1 Axes>"
      ]
     },
     "metadata": {
      "needs_background": "light"
     },
     "output_type": "display_data"
    }
   ],
   "source": [
    "axs=sns.lmplot(x=\"SF\", \n",
    "           y=\"acceptable\",\n",
    "               x_jitter=0.5,\n",
    "               scatter_kws={\"color\":'k'},\n",
    "               line_kws={\"color\":'k'},\n",
    "               #hue='repair_enhance',\n",
    "           data=a)\n",
    "plt.xlabel('Familiarity with SF')\n",
    "plt.ylabel('Acceptability of overt use')\n",
    "#plt.legend(title='Who wears the device')"
   ]
  },
  {
   "cell_type": "markdown",
   "metadata": {},
   "source": [
    "#### A therapeutic context makes them even more acceptable"
   ]
  },
  {
   "cell_type": "code",
   "execution_count": 43,
   "metadata": {
    "ExecuteTime": {
     "end_time": "2021-06-30T03:55:10.566196Z",
     "start_time": "2021-06-30T03:55:02.255977Z"
    }
   },
   "outputs": [
    {
     "name": "stdout",
     "output_type": "stream",
     "text": [
      "\n",
      "=============\n",
      "ANOVA SUMMARY\n",
      "=============\n",
      "\n",
      "Source            ddof1    ddof2       F    p-unc    np2    eps\n",
      "--------------  -------  -------  ------  -------  -----  -----\n",
      "repair_enhance        1      302  47.069    0.000  0.135  1.000\n",
      "\n"
     ]
    },
    {
     "data": {
      "image/png": "[encoded data removed]",
      "text/plain": [
       "<Figure size 432x288 with 1 Axes>"
      ]
     },
     "metadata": {
      "needs_background": "light"
     },
     "output_type": "display_data"
    }
   ],
   "source": [
    "sns.pointplot(data=data_df, \n",
    "            x='repair_enhance',\n",
    "            y='acceptable',\n",
    "            units='id',\n",
    "            ci=95,\n",
    "            dodge=True)\n",
    "# RM-ANOVA\n",
    "aov = pg.rm_anova(data=data_df.groupby(['id','repair_enhance']).agg({'acceptable':'mean'}).reset_index(),\n",
    "                  dv='acceptable',\n",
    "                  within=['repair_enhance'],\n",
    "                  subject='id')\n",
    "pg.print_table(aov)"
   ]
  },
  {
   "cell_type": "code",
   "execution_count": 44,
   "metadata": {
    "ExecuteTime": {
     "end_time": "2021-06-30T03:55:10.688865Z",
     "start_time": "2021-06-30T03:55:10.567191Z"
    }
   },
   "outputs": [
    {
     "name": "stdout",
     "output_type": "stream",
     "text": [
      "Heteroscedasticity:\n",
      "F(6,296)=0.39, p=0.8836\n",
      "\n",
      "                            OLS Regression Results                            \n",
      "==============================================================================\n",
      "Dep. Variable:        acceptable_norm   R-squared:                       0.008\n",
      "Model:                            OLS   Adj. R-squared:                 -0.013\n",
      "Method:                 Least Squares   F-statistic:                    0.3758\n",
      "Date:                Wed, 30 Jun 2021   Prob (F-statistic):              0.894\n",
      "Time:                        05:55:10   Log-Likelihood:                -475.01\n",
      "No. Observations:                 303   AIC:                             964.0\n",
      "Df Residuals:                     296   BIC:                             990.0\n",
      "Df Model:                           6                                         \n",
      "Covariance Type:            nonrobust                                         \n",
      "==============================================================================\n",
      "                 coef    std err          t      P>|t|      [0.025      0.975]\n",
      "------------------------------------------------------------------------------\n",
      "const          0.0478      0.621      0.077      0.939      -1.175       1.270\n",
      "MFQ_NN         0.0174      0.022      0.780      0.436      -0.027       0.061\n",
      "MFQ_EQ         0.0116      0.027      0.425      0.671      -0.042       0.065\n",
      "MFQ_LO         0.0016      0.021      0.074      0.941      -0.040       0.043\n",
      "MFQ_AU         0.0007      0.023      0.030      0.976      -0.044       0.046\n",
      "MFQ_PU        -0.0121      0.016     -0.734      0.463      -0.044       0.020\n",
      "SF            -0.0017      0.004     -0.449      0.654      -0.009       0.006\n",
      "==============================================================================\n",
      "Omnibus:                       20.970   Durbin-Watson:                   2.154\n",
      "Prob(Omnibus):                  0.000   Jarque-Bera (JB):               25.718\n",
      "Skew:                           0.557   Prob(JB):                     2.60e-06\n",
      "Kurtosis:                       3.892   Cond. No.                         668.\n",
      "==============================================================================\n",
      "\n",
      "Notes:\n",
      "[1] Standard Errors assume that the covariance matrix of the errors is correctly specified.\n"
     ]
    },
    {
     "data": {
      "image/png": "[encoded data removed]",
      "text/plain": [
       "<Figure size 432x288 with 1 Axes>"
      ]
     },
     "metadata": {
      "needs_background": "light"
     },
     "output_type": "display_data"
    }
   ],
   "source": [
    "factors = ['MFQ_NN', 'MFQ_EQ', 'MFQ_LO', 'MFQ_AU', 'MFQ_PU', 'SF']\n",
    "\n",
    "# compute the difference of acceptability scores averaged over both types of vignettes\n",
    "agg_dict = {factor:'first' for factor in factors}\n",
    "agg_dict.update({'acceptable':'mean'})\n",
    "a = data_df.groupby(['id','repair_enhance']).agg(agg_dict).reset_index()\n",
    "enhance_ratings = a[a.repair_enhance==\"EN\"][['id','acceptable']].set_index(\"id\")\n",
    "enhance_ratings.rename(columns={'acceptable':'enhance'}, inplace=True)\n",
    "a=a.join(enhance_ratings, on='id')\n",
    "a['acceptable_norm'] = a.acceptable - a.enhance\n",
    "\n",
    "\n",
    "# Robust linear regression ()\n",
    "x_fit = sm.add_constant(a[a.repair_enhance=='RE'][factors])\n",
    "rlm_model = sm.OLS(a[a.repair_enhance=='RE'].acceptable_norm, x_fit)\n",
    "rlm_results = rlm_model.fit()\n",
    "\n",
    "# homoscedasticity\n",
    "bp = sm.stats.diagnostic.het_breuschpagan(rlm_results.resid, rlm_results.model.exog)\n",
    "print('Heteroscedasticity:\\nF(%d,%d)=%.2f, p=%.4f\\n'%(rlm_results.df_model,\n",
    "                               rlm_results.df_resid,\n",
    "                               bp[2],bp[3]))\n",
    "\n",
    "plt.plot(rlm_results.resid, rlm_results.fittedvalues,'.')\n",
    "plt.xlabel('Residuals')\n",
    "plt.ylabel('Predictions')\n",
    "\n",
    "print(rlm_results.summary())\n"
   ]
  },
  {
   "cell_type": "markdown",
   "metadata": {},
   "source": [
    "#### Manipulating perception is less acceptable than manipulating production"
   ]
  },
  {
   "cell_type": "code",
   "execution_count": 45,
   "metadata": {
    "ExecuteTime": {
     "end_time": "2021-06-30T03:55:22.934115Z",
     "start_time": "2021-06-30T03:55:10.689855Z"
    },
    "scrolled": false
   },
   "outputs": [
    {
     "name": "stdout",
     "output_type": "stream",
     "text": [
      "\n",
      "=============\n",
      "ANOVA SUMMARY\n",
      "=============\n",
      "\n",
      "Source           ddof1    ddof2      F    p-unc    np2    eps\n",
      "-------------  -------  -------  -----  -------  -----  -----\n",
      "left_right_fb        2      604  7.518    0.001  0.024  0.989\n",
      "\n",
      "\n",
      "==============\n",
      "POST HOC TESTS\n",
      "==============\n",
      "\n",
      "Contrast       A    B    Paired    Parametric         T      dof  Tail         p-unc    p-corr  p-adjust      BF10    cohen\n",
      "-------------  ---  ---  --------  ------------  ------  -------  ---------  -------  --------  ----------  ------  -------\n",
      "left_right_fb  FB   LE   True      True          -2.983  302.000  two-sided    0.003     0.009  bonf         4.955   -0.108\n",
      "left_right_fb  FB   RI   True      True           0.418  302.000  two-sided    0.676     1.000  bonf         0.070    0.014\n",
      "left_right_fb  LE   RI   True      True           3.659  302.000  two-sided    0.000     0.001  bonf        42.400    0.122\n",
      "\n"
     ]
    },
    {
     "data": {
      "image/png": "[encoded data removed]",
      "text/plain": [
       "<Figure size 432x288 with 1 Axes>"
      ]
     },
     "metadata": {
      "needs_background": "light"
     },
     "output_type": "display_data"
    }
   ],
   "source": [
    "sns.pointplot(data=data_df, \n",
    "            x='left_right_fb',\n",
    "            y='acceptable',\n",
    "            units='id',\n",
    "            ci=95,\n",
    "            dodge=True)\n",
    "# RM-ANOVA\n",
    "aov = pg.rm_anova(data=data_df.groupby(['id','left_right_fb']).agg({'acceptable':'mean'}).reset_index(),\n",
    "                  dv='acceptable',\n",
    "                  within=['left_right_fb'],\n",
    "                  subject='id')\n",
    "pg.print_table(aov)\n",
    "\n",
    "# bonf-corrected post hocs\n",
    "posthoc = pg.pairwise_ttests(data=data_df.groupby(['id','left_right_fb']).agg({'acceptable':'mean'}).reset_index(),\n",
    "                  dv='acceptable',\n",
    "                  within=['left_right_fb'],\n",
    "                  subject='id',\n",
    "                             parametric=True,\n",
    "                             padjust='bonf',\n",
    "                             effsize='cohen')\n",
    "pg.print_table(posthoc, floatfmt='.3f')"
   ]
  },
  {
   "cell_type": "code",
   "execution_count": 46,
   "metadata": {
    "ExecuteTime": {
     "end_time": "2021-06-30T03:55:23.068741Z",
     "start_time": "2021-06-30T03:55:22.935108Z"
    }
   },
   "outputs": [
    {
     "name": "stdout",
     "output_type": "stream",
     "text": [
      "RI\n",
      "Heteroscedasticity:\n",
      "F(6,296)=0.27, p=0.9499\n",
      "\n",
      "                            OLS Regression Results                            \n",
      "==============================================================================\n",
      "Dep. Variable:        acceptable_norm   R-squared:                       0.006\n",
      "Model:                            OLS   Adj. R-squared:                 -0.014\n",
      "Method:                 Least Squares   F-statistic:                    0.3113\n",
      "Date:                Wed, 30 Jun 2021   Prob (F-statistic):              0.931\n",
      "Time:                        05:55:22   Log-Likelihood:                -453.83\n",
      "No. Observations:                 303   AIC:                             921.7\n",
      "Df Residuals:                     296   BIC:                             947.6\n",
      "Df Model:                           6                                         \n",
      "Covariance Type:            nonrobust                                         \n",
      "==============================================================================\n",
      "                 coef    std err          t      P>|t|      [0.025      0.975]\n",
      "------------------------------------------------------------------------------\n",
      "const         -0.6205      0.579     -1.071      0.285      -1.760       0.519\n",
      "MFQ_NN         0.0125      0.021      0.599      0.550      -0.029       0.053\n",
      "MFQ_EQ        -0.0062      0.025     -0.245      0.807      -0.056       0.044\n",
      "MFQ_LO         0.0011      0.020      0.056      0.956      -0.038       0.040\n",
      "MFQ_AU        -0.0053      0.021     -0.251      0.802      -0.047       0.036\n",
      "MFQ_PU         0.0055      0.015      0.360      0.719      -0.025       0.036\n",
      "SF             0.0036      0.003      1.042      0.298      -0.003       0.011\n",
      "==============================================================================\n",
      "Omnibus:                       28.044   Durbin-Watson:                   1.809\n",
      "Prob(Omnibus):                  0.000   Jarque-Bera (JB):               54.031\n",
      "Skew:                          -0.514   Prob(JB):                     1.85e-12\n",
      "Kurtosis:                       4.795   Cond. No.                         668.\n",
      "==============================================================================\n",
      "\n",
      "Notes:\n",
      "[1] Standard Errors assume that the covariance matrix of the errors is correctly specified.\n",
      "FB\n",
      "Heteroscedasticity:\n",
      "F(6,296)=0.66, p=0.6815\n",
      "\n",
      "                            OLS Regression Results                            \n",
      "==============================================================================\n",
      "Dep. Variable:        acceptable_norm   R-squared:                       0.011\n",
      "Model:                            OLS   Adj. R-squared:                 -0.009\n",
      "Method:                 Least Squares   F-statistic:                    0.5713\n",
      "Date:                Wed, 30 Jun 2021   Prob (F-statistic):              0.753\n",
      "Time:                        05:55:22   Log-Likelihood:                -477.77\n",
      "No. Observations:                 303   AIC:                             969.5\n",
      "Df Residuals:                     296   BIC:                             995.5\n",
      "Df Model:                           6                                         \n",
      "Covariance Type:            nonrobust                                         \n",
      "==============================================================================\n",
      "                 coef    std err          t      P>|t|      [0.025      0.975]\n",
      "------------------------------------------------------------------------------\n",
      "const          0.1107      0.627      0.177      0.860      -1.123       1.344\n",
      "MFQ_NN        -0.0112      0.023     -0.497      0.619      -0.056       0.033\n",
      "MFQ_EQ         0.0204      0.028      0.741      0.460      -0.034       0.075\n",
      "MFQ_LO        -0.0107      0.022     -0.498      0.619      -0.053       0.032\n",
      "MFQ_AU        -0.0027      0.023     -0.117      0.907      -0.048       0.043\n",
      "MFQ_PU        -0.0158      0.017     -0.951      0.342      -0.048       0.017\n",
      "SF            -0.0004      0.004     -0.111      0.912      -0.008       0.007\n",
      "==============================================================================\n",
      "Omnibus:                       19.036   Durbin-Watson:                   1.887\n",
      "Prob(Omnibus):                  0.000   Jarque-Bera (JB):               57.518\n",
      "Skew:                           0.077   Prob(JB):                     3.24e-13\n",
      "Kurtosis:                       5.129   Cond. No.                         668.\n",
      "==============================================================================\n",
      "\n",
      "Notes:\n",
      "[1] Standard Errors assume that the covariance matrix of the errors is correctly specified.\n"
     ]
    },
    {
     "data": {
      "image/png": "[encoded data removed]",
      "text/plain": [
       "<Figure size 432x288 with 1 Axes>"
      ]
     },
     "metadata": {
      "needs_background": "light"
     },
     "output_type": "display_data"
    }
   ],
   "source": [
    "factors = ['MFQ_NN', 'MFQ_EQ', 'MFQ_LO', 'MFQ_AU', 'MFQ_PU', 'SF']\n",
    "\n",
    "# normalize right (perception) and FB against LE (perception)\n",
    "agg_dict = {factor:'first' for factor in factors}\n",
    "agg_dict.update({'acceptable':'mean'})\n",
    "a = data_df.groupby(['id','left_right_fb']).agg(agg_dict).reset_index()\n",
    "left_ratings = a[a.left_right_fb==\"LE\"][['id','acceptable']].set_index(\"id\")\n",
    "left_ratings.rename(columns={'acceptable':'left'}, inplace=True)\n",
    "a=a.join(left_ratings, on='id')\n",
    "a['acceptable_norm'] = a.acceptable - a.left\n",
    "\n",
    "for situation in ['RI','FB']: \n",
    "    print(situation)\n",
    "    x_fit = sm.add_constant(a[a.left_right_fb==situation][factors])\n",
    "    rlm_model = sm.OLS(a[a.left_right_fb==situation].acceptable_norm, x_fit)\n",
    "    rlm_results = rlm_model.fit()\n",
    "\n",
    "    #rlm_model = sm.api.RLM(a.acceptable_norm,\n",
    "    #               x_fit,\n",
    "    #               M=sm.api.robust.norms.HuberT())\n",
    "    #rlm_results = rlm_model.fit(cov='H3')\n",
    "    \n",
    "    # homoscedasticity\n",
    "    bp = sm.stats.diagnostic.het_breuschpagan(rlm_results.resid, rlm_results.model.exog)\n",
    "    print('Heteroscedasticity:\\nF(%d,%d)=%.2f, p=%.4f\\n'%(rlm_results.df_model,\n",
    "                               rlm_results.df_resid,\n",
    "                               bp[2],bp[3]))\n",
    "\n",
    "    plt.plot(rlm_results.resid, rlm_results.fittedvalues,'.')\n",
    "    plt.xlabel('Residuals')\n",
    "    plt.ylabel('Predictions')\n",
    "\n",
    "    print(rlm_results.summary())"
   ]
  },
  {
   "cell_type": "markdown",
   "metadata": {},
   "source": [
    "### Acceptability of covert uses"
   ]
  },
  {
   "cell_type": "markdown",
   "metadata": {},
   "source": [
    "#### Using the transformation covertly is not a problem..."
   ]
  },
  {
   "cell_type": "markdown",
   "metadata": {},
   "source": [
    "More acceptable situations were more acceptable to lie about"
   ]
  },
  {
   "cell_type": "code",
   "execution_count": 47,
   "metadata": {
    "ExecuteTime": {
     "end_time": "2021-06-30T03:55:28.002590Z",
     "start_time": "2021-06-30T03:55:23.069721Z"
    }
   },
   "outputs": [
    {
     "data": {
      "text/plain": [
       "<matplotlib.axes._subplots.AxesSubplot at 0x1fbb7ee06d8>"
      ]
     },
     "execution_count": 47,
     "metadata": {},
     "output_type": "execute_result"
    },
    {
     "data": {
      "image/png": "[encoded data removed]",
      "text/plain": [
       "<Figure size 432x288 with 1 Axes>"
      ]
     },
     "metadata": {
      "needs_background": "light"
     },
     "output_type": "display_data"
    }
   ],
   "source": [
    "# correlation over vignette & users\n",
    "a = data_df.groupby(['vignette','id']).agg({'acceptable':'mean',\n",
    "                                           'covert_person_judgement':'mean'}).reset_index()\n",
    "sns.regplot(data=a,\n",
    "            x='acceptable',\n",
    "            y='covert_person_judgement',\n",
    "            units='id',\n",
    "            x_jitter=0.3,\n",
    "            y_jitter=0.3,\n",
    "            marker='.')"
   ]
  },
  {
   "cell_type": "code",
   "execution_count": 48,
   "metadata": {
    "ExecuteTime": {
     "end_time": "2021-06-30T03:55:28.222968Z",
     "start_time": "2021-06-30T03:55:28.003556Z"
    }
   },
   "outputs": [
    {
     "name": "stdout",
     "output_type": "stream",
     "text": [
      "Heteroscedasticity:\n",
      "F(1,22)=0.13, p=0.7262\n",
      "\n",
      "                                 OLS Regression Results                                 \n",
      "========================================================================================\n",
      "Dep. Variable:     covert_instrumente_judgement   R-squared:                       0.611\n",
      "Model:                                      OLS   Adj. R-squared:                  0.594\n",
      "Method:                           Least Squares   F-statistic:                     34.61\n",
      "Date:                          Wed, 30 Jun 2021   Prob (F-statistic):           6.41e-06\n",
      "Time:                                  05:55:28   Log-Likelihood:                 18.825\n",
      "No. Observations:                            24   AIC:                            -33.65\n",
      "Df Residuals:                                22   BIC:                            -31.29\n",
      "Df Model:                                     1                                         \n",
      "Covariance Type:                      nonrobust                                         \n",
      "==============================================================================\n",
      "                 coef    std err          t      P>|t|      [0.025      0.975]\n",
      "------------------------------------------------------------------------------\n",
      "const          2.1745      0.429      5.074      0.000       1.286       3.063\n",
      "acceptable     0.3877      0.066      5.883      0.000       0.251       0.524\n",
      "==============================================================================\n",
      "Omnibus:                       13.650   Durbin-Watson:                   1.464\n",
      "Prob(Omnibus):                  0.001   Jarque-Bera (JB):               12.630\n",
      "Skew:                           1.483   Prob(JB):                      0.00181\n",
      "Kurtosis:                       4.959   Cond. No.                         121.\n",
      "==============================================================================\n",
      "\n",
      "Notes:\n",
      "[1] Standard Errors assume that the covariance matrix of the errors is correctly specified.\n"
     ]
    },
    {
     "data": {
      "image/png": "[encoded data removed]",
      "text/plain": [
       "<Figure size 360x360 with 1 Axes>"
      ]
     },
     "metadata": {
      "needs_background": "light"
     },
     "output_type": "display_data"
    }
   ],
   "source": [
    "# correlation over vignettes, averaged over users\n",
    "a=data_df.groupby(['vignette']).agg({'acceptable':'mean',\n",
    "                                                    'covert_instrumente_judgement':'mean'}).reset_index()\n",
    "\n",
    "sns.lmplot(data=a,\n",
    "            x='acceptable',\n",
    "            y='covert_instrumente_judgement',\n",
    "          scatter_kws={\"color\":'k'},\n",
    "               line_kws={\"color\":'k'})\n",
    "\n",
    "x_fit = sm.add_constant(a.acceptable)\n",
    "rlm_model = sm.OLS(a.covert_instrumente_judgement, x_fit)\n",
    "rlm_results = rlm_model.fit()\n",
    "\n",
    "    #rlm_model = sm.api.RLM(a.acceptable_norm,\n",
    "    #               x_fit,\n",
    "    #               M=sm.api.robust.norms.HuberT())\n",
    "    #rlm_results = rlm_model.fit(cov='H3')\n",
    "    \n",
    "# homoscedasticity\n",
    "bp = sm.stats.diagnostic.het_breuschpagan(rlm_results.resid, rlm_results.model.exog)\n",
    "print('Heteroscedasticity:\\nF(%d,%d)=%.2f, p=%.4f\\n'%(rlm_results.df_model,\n",
    "                               rlm_results.df_resid,\n",
    "                               bp[2],bp[3]))\n",
    "\n",
    "#plt.plot(rlm_results.resid, rlm_results.fittedvalues,'.')\n",
    "#plt.xlabel('Residuals')\n",
    "#plt.ylabel('Predictions')\n",
    "print(rlm_results.summary())"
   ]
  },
  {
   "cell_type": "markdown",
   "metadata": {},
   "source": [
    "Across all situations, mean acceptability M=4.69"
   ]
  },
  {
   "cell_type": "code",
   "execution_count": 49,
   "metadata": {
    "ExecuteTime": {
     "end_time": "2021-06-30T03:55:28.331710Z",
     "start_time": "2021-06-30T03:55:28.223967Z"
    }
   },
   "outputs": [
    {
     "name": "stdout",
     "output_type": "stream",
     "text": [
      "M=4.69\n"
     ]
    },
    {
     "data": {
      "text/html": [
       "<div>\n",
       "<style scoped>\n",
       "    .dataframe tbody tr th:only-of-type {\n",
       "        vertical-align: middle;\n",
       "    }\n",
       "\n",
       "    .dataframe tbody tr th {\n",
       "        vertical-align: top;\n",
       "    }\n",
       "\n",
       "    .dataframe thead th {\n",
       "        text-align: right;\n",
       "    }\n",
       "</style>\n",
       "<table border=\"1\" class=\"dataframe\">\n",
       "  <thead>\n",
       "    <tr style=\"text-align: right;\">\n",
       "      <th></th>\n",
       "      <th>T</th>\n",
       "      <th>dof</th>\n",
       "      <th>tail</th>\n",
       "      <th>p-val</th>\n",
       "      <th>CI95%</th>\n",
       "      <th>cohen-d</th>\n",
       "      <th>BF10</th>\n",
       "      <th>power</th>\n",
       "    </tr>\n",
       "  </thead>\n",
       "  <tbody>\n",
       "    <tr>\n",
       "      <th>T-test</th>\n",
       "      <td>-3.191524</td>\n",
       "      <td>302</td>\n",
       "      <td>two-sided</td>\n",
       "      <td>0.001564</td>\n",
       "      <td>[4.5, 4.88]</td>\n",
       "      <td>0.183348</td>\n",
       "      <td>9.205</td>\n",
       "      <td>0.889032</td>\n",
       "    </tr>\n",
       "  </tbody>\n",
       "</table>\n",
       "</div>"
      ],
      "text/plain": [
       "               T  dof       tail     p-val        CI95%   cohen-d   BF10  \\\n",
       "T-test -3.191524  302  two-sided  0.001564  [4.5, 4.88]  0.183348  9.205   \n",
       "\n",
       "           power  \n",
       "T-test  0.889032  "
      ]
     },
     "execution_count": 49,
     "metadata": {},
     "output_type": "execute_result"
    },
    {
     "data": {
      "image/png": "[encoded data removed]",
      "text/plain": [
       "<Figure size 432x288 with 1 Axes>"
      ]
     },
     "metadata": {
      "needs_background": "light"
     },
     "output_type": "display_data"
    }
   ],
   "source": [
    "sns.pointplot(data=data_df.groupby(['id']).covert_instrumente_judgement.mean().reset_index(), \n",
    "             y='covert_instrumente_judgement')\n",
    "print('M=%.2f'%data_df.covert_instrumente_judgement.mean())\n",
    "pg.ttest(data_df.groupby(['id']).covert_instrumente_judgement.mean(),5)"
   ]
  },
  {
   "cell_type": "code",
   "execution_count": 50,
   "metadata": {
    "ExecuteTime": {
     "end_time": "2021-06-30T03:55:28.450392Z",
     "start_time": "2021-06-30T03:55:28.332722Z"
    },
    "scrolled": false
   },
   "outputs": [
    {
     "name": "stdout",
     "output_type": "stream",
     "text": [
      "Heteroscedasticity:\n",
      "F(6,296)=1.27, p=0.2699\n",
      "\n",
      "                         Robust linear Model Regression Results                         \n",
      "========================================================================================\n",
      "Dep. Variable:     covert_instrumente_judgement   No. Observations:                  303\n",
      "Model:                                      RLM   Df Residuals:                      296\n",
      "Method:                                    IRLS   Df Model:                            6\n",
      "Norm:                                    HuberT                                         \n",
      "Scale Est.:                                 mad                                         \n",
      "Cov Type:                                    H3                                         \n",
      "Date:                          Wed, 30 Jun 2021                                         \n",
      "Time:                                  05:55:28                                         \n",
      "No. Iterations:                              27                                         \n",
      "==============================================================================\n",
      "                 coef    std err          z      P>|z|      [0.025      0.975]\n",
      "------------------------------------------------------------------------------\n",
      "const          1.7389      0.855      2.034      0.042       0.063       3.415\n",
      "MFQ_NN         0.0672      0.036      1.876      0.061      -0.003       0.137\n",
      "MFQ_EQ        -0.0686      0.042     -1.636      0.102      -0.151       0.014\n",
      "MFQ_LO         0.0438      0.029      1.513      0.130      -0.013       0.101\n",
      "MFQ_AU         0.0257      0.032      0.813      0.416      -0.036       0.088\n",
      "MFQ_PU         0.0640      0.024      2.711      0.007       0.018       0.110\n",
      "SF             0.0133      0.005      2.421      0.015       0.003       0.024\n",
      "==============================================================================\n",
      "\n",
      "If the model instance has been used for another fit with different fit parameters, then the fit options might not be the correct ones anymore .\n"
     ]
    },
    {
     "data": {
      "image/png": "[encoded data removed]",
      "text/plain": [
       "<Figure size 432x288 with 1 Axes>"
      ]
     },
     "metadata": {
      "needs_background": "light"
     },
     "output_type": "display_data"
    }
   ],
   "source": [
    "agg_dict = {factor:'first' for factor in factors}\n",
    "agg_dict.update({'covert_instrumente_judgement':'mean'})\n",
    "a = data_df.groupby(['id']).agg(agg_dict).reset_index()\n",
    "x_fit = sm.add_constant(a[factors])\n",
    "rlm_model = sm.OLS(a.covert_instrumente_judgement, x_fit)\n",
    "rlm_results = rlm_model.fit()\n",
    "\n",
    "rlm_model = sm.RLM(a.covert_instrumente_judgement,\n",
    "               x_fit,\n",
    "               M=sm.robust.norms.HuberT())\n",
    "rlm_results = rlm_model.fit(cov='H3')\n",
    "    \n",
    "# homoscedasticity\n",
    "bp = sm.stats.diagnostic.het_breuschpagan(rlm_results.resid, rlm_results.model.exog)\n",
    "print('Heteroscedasticity:\\nF(%d,%d)=%.2f, p=%.4f\\n'%(rlm_results.df_model,\n",
    "                               rlm_results.df_resid,\n",
    "                               bp[2],bp[3]))\n",
    "\n",
    "plt.plot(rlm_results.resid, rlm_results.fittedvalues,'.')\n",
    "plt.xlabel('Residuals')\n",
    "plt.ylabel('Predictions')\n",
    "print(rlm_results.summary())"
   ]
  },
  {
   "cell_type": "markdown",
   "metadata": {},
   "source": [
    "Very large interaction with which person is being lied to"
   ]
  },
  {
   "cell_type": "code",
   "execution_count": 51,
   "metadata": {
    "ExecuteTime": {
     "end_time": "2021-06-30T03:55:45.289374Z",
     "start_time": "2021-06-30T03:55:28.451389Z"
    }
   },
   "outputs": [
    {
     "name": "stdout",
     "output_type": "stream",
     "text": [
      "\n",
      "=============\n",
      "ANOVA SUMMARY\n",
      "=============\n",
      "\n",
      "Source               SS    DF1    DF2        MS        F    p-unc    np2      eps\n",
      "-------------  --------  -----  -----  --------  -------  -------  -----  -------\n",
      "instrumente       1.012      1    301     1.012    0.179    0.673  0.001  nan\n",
      "covert_person     0.152      1    301     0.152    0.081    0.776  0.000    1.000\n",
      "Interaction    1173.763      1    301  1173.763  629.946    0.000  0.677  nan\n",
      "\n",
      "\n",
      "=============\n",
      "ANOVA SUMMARY\n",
      "=============\n",
      "\n",
      "Source                ddof1    ddof2        F    p-unc    np2    eps\n",
      "------------------  -------  -------  -------  -------  -----  -----\n",
      "covert_instrumente        1      302  631.237    0.000  0.676  1.000\n",
      "\n"
     ]
    },
    {
     "data": {
      "image/png": "[encoded data removed]",
      "text/plain": [
       "<Figure size 1440x360 with 2 Axes>"
      ]
     },
     "metadata": {
      "needs_background": "light"
     },
     "output_type": "display_data"
    }
   ],
   "source": [
    "fig = plt.figure(figsize=(20,5))\n",
    "plt.subplot(121)\n",
    "sns.pointplot(data=data_df, \n",
    "            x='covert_person',\n",
    "            y='covert_person_judgement',\n",
    "            units='id',\n",
    "            hue='instrumente',\n",
    "            bootstrap=1000,\n",
    "            legend_out=False,\n",
    "            ci=95,\n",
    "            dodge=True)\n",
    "plt.subplot(122)\n",
    "sns.pointplot(data=data_df, \n",
    "            x='covert_instrumente',\n",
    "            y='covert_instrumente_judgement',\n",
    "            units='id',\n",
    "            hue='instrumente',\n",
    "            bootstrap=1000,\n",
    "            legend_out=False,\n",
    "            ci=95,\n",
    "            dodge=True)\n",
    "aov = pg.mixed_anova(data=data_df,\n",
    "                     dv='covert_person_judgement',\n",
    "                     between='instrumente',\n",
    "                     within='covert_person',\n",
    "                     subject='id')\n",
    "pg.print_table(aov)\n",
    "aov = pg.rm_anova(data=data_df,\n",
    "                     dv='covert_instrumente_judgement',\n",
    "                     within='covert_instrumente',\n",
    "                     subject='id')\n",
    "pg.print_table(aov)"
   ]
  },
  {
   "cell_type": "code",
   "execution_count": 52,
   "metadata": {
    "ExecuteTime": {
     "end_time": "2021-06-30T03:55:45.414053Z",
     "start_time": "2021-06-30T03:55:45.290385Z"
    }
   },
   "outputs": [
    {
     "name": "stdout",
     "output_type": "stream",
     "text": [
      "M=6.08\n"
     ]
    },
    {
     "data": {
      "text/html": [
       "<div>\n",
       "<style scoped>\n",
       "    .dataframe tbody tr th:only-of-type {\n",
       "        vertical-align: middle;\n",
       "    }\n",
       "\n",
       "    .dataframe tbody tr th {\n",
       "        vertical-align: top;\n",
       "    }\n",
       "\n",
       "    .dataframe thead th {\n",
       "        text-align: right;\n",
       "    }\n",
       "</style>\n",
       "<table border=\"1\" class=\"dataframe\">\n",
       "  <thead>\n",
       "    <tr style=\"text-align: right;\">\n",
       "      <th></th>\n",
       "      <th>T</th>\n",
       "      <th>dof</th>\n",
       "      <th>tail</th>\n",
       "      <th>p-val</th>\n",
       "      <th>CI95%</th>\n",
       "      <th>cohen-d</th>\n",
       "      <th>BF10</th>\n",
       "      <th>power</th>\n",
       "    </tr>\n",
       "  </thead>\n",
       "  <tbody>\n",
       "    <tr>\n",
       "      <th>T-test</th>\n",
       "      <td>9.998859</td>\n",
       "      <td>302</td>\n",
       "      <td>two-sided</td>\n",
       "      <td>1.607503e-20</td>\n",
       "      <td>[5.87, 6.3]</td>\n",
       "      <td>0.574419</td>\n",
       "      <td>2.559e+17</td>\n",
       "      <td>1.0</td>\n",
       "    </tr>\n",
       "  </tbody>\n",
       "</table>\n",
       "</div>"
      ],
      "text/plain": [
       "               T  dof       tail         p-val        CI95%   cohen-d  \\\n",
       "T-test  9.998859  302  two-sided  1.607503e-20  [5.87, 6.3]  0.574419   \n",
       "\n",
       "             BF10  power  \n",
       "T-test  2.559e+17    1.0  "
      ]
     },
     "execution_count": 52,
     "metadata": {},
     "output_type": "execute_result"
    },
    {
     "data": {
      "image/png": "[encoded data removed]",
      "text/plain": [
       "<Figure size 432x288 with 1 Axes>"
      ]
     },
     "metadata": {
      "needs_background": "light"
     },
     "output_type": "display_data"
    }
   ],
   "source": [
    "# participants considered it morally acceptable that the user of this device hides its true purpose to others\n",
    "sns.pointplot(data=data_df[data_df.covert_instrumente=='non'], \n",
    "             y='covert_instrumente_judgement')\n",
    "print('M=%.2f'%data_df[data_df.covert_instrumente=='non'].covert_instrumente_judgement.mean())\n",
    "pg.ttest(data_df[data_df.covert_instrumente=='non'].groupby(['id']).covert_instrumente_judgement.mean(),5)"
   ]
  },
  {
   "cell_type": "code",
   "execution_count": 53,
   "metadata": {
    "ExecuteTime": {
     "end_time": "2021-06-30T03:55:45.515780Z",
     "start_time": "2021-06-30T03:55:45.415059Z"
    },
    "scrolled": false
   },
   "outputs": [
    {
     "name": "stdout",
     "output_type": "stream",
     "text": [
      "Heteroscedasticity:\n",
      "F(6,296)=1.72, p=0.1150\n",
      "\n",
      "                         Robust linear Model Regression Results                         \n",
      "========================================================================================\n",
      "Dep. Variable:     covert_instrumente_judgement   No. Observations:                  303\n",
      "Model:                                      RLM   Df Residuals:                      296\n",
      "Method:                                    IRLS   Df Model:                            6\n",
      "Norm:                                    HuberT                                         \n",
      "Scale Est.:                                 mad                                         \n",
      "Cov Type:                                    H3                                         \n",
      "Date:                          Wed, 30 Jun 2021                                         \n",
      "Time:                                  05:55:45                                         \n",
      "No. Iterations:                              17                                         \n",
      "==============================================================================\n",
      "                 coef    std err          z      P>|z|      [0.025      0.975]\n",
      "------------------------------------------------------------------------------\n",
      "const          3.1361      0.966      3.247      0.001       1.243       5.029\n",
      "MFQ_NN         0.0588      0.040      1.472      0.141      -0.019       0.137\n",
      "MFQ_EQ         0.0189      0.044      0.425      0.671      -0.068       0.106\n",
      "MFQ_LO        -0.0137      0.034     -0.405      0.685      -0.080       0.053\n",
      "MFQ_AU         0.0260      0.036      0.721      0.471      -0.045       0.097\n",
      "MFQ_PU         0.0336      0.025      1.325      0.185      -0.016       0.083\n",
      "SF             0.0116      0.006      1.946      0.052   -8.23e-05       0.023\n",
      "==============================================================================\n",
      "\n",
      "If the model instance has been used for another fit with different fit parameters, then the fit options might not be the correct ones anymore .\n"
     ]
    },
    {
     "data": {
      "image/png": "[encoded data removed]",
      "text/plain": [
       "<Figure size 432x288 with 1 Axes>"
      ]
     },
     "metadata": {
      "needs_background": "light"
     },
     "output_type": "display_data"
    }
   ],
   "source": [
    "factors = ['MFQ_NN', 'MFQ_EQ', 'MFQ_LO', 'MFQ_AU', 'MFQ_PU', 'SF']\n",
    "\n",
    "agg_dict = {factor:'first' for factor in factors}\n",
    "agg_dict.update({'covert_instrumente_judgement':'mean'})\n",
    "a = data_df[data_df.covert_instrumente=='non'].groupby(['id']).agg(agg_dict).reset_index()\n",
    "x_fit = sm.add_constant(a[factors])\n",
    "#rlm_model = sm.OLS(a.covert_instrumente_judgement, x_fit)\n",
    "#rlm_results = rlm_model.fit()\n",
    "\n",
    "rlm_model = sm.RLM(a.covert_instrumente_judgement,\n",
    "               x_fit,\n",
    "               M=sm.robust.norms.HuberT())\n",
    "rlm_results = rlm_model.fit(cov='H3')\n",
    "    \n",
    "# homoscedasticity\n",
    "bp = sm.stats.diagnostic.het_breuschpagan(rlm_results.resid, rlm_results.model.exog)\n",
    "print('Heteroscedasticity:\\nF(%d,%d)=%.2f, p=%.4f\\n'%(rlm_results.df_model,\n",
    "                               rlm_results.df_resid,\n",
    "                               bp[2],bp[3]))\n",
    "\n",
    "plt.plot(rlm_results.resid, rlm_results.fittedvalues,'.')\n",
    "plt.xlabel('Residuals')\n",
    "plt.ylabel('Predictions')\n",
    "print(rlm_results.summary())"
   ]
  },
  {
   "cell_type": "code",
   "execution_count": 54,
   "metadata": {
    "ExecuteTime": {
     "end_time": "2021-06-30T03:55:45.720215Z",
     "start_time": "2021-06-30T03:55:45.516779Z"
    },
    "scrolled": false
   },
   "outputs": [
    {
     "data": {
      "text/plain": [
       "Text(16.424999999999997, 0.5, 'Acceptability of lying')"
      ]
     },
     "execution_count": 54,
     "metadata": {},
     "output_type": "execute_result"
    },
    {
     "data": {
      "image/png": "[encoded data removed]",
      "text/plain": [
       "<Figure size 360x360 with 1 Axes>"
      ]
     },
     "metadata": {
      "needs_background": "light"
     },
     "output_type": "display_data"
    }
   ],
   "source": [
    "axs=sns.lmplot(x=\"SF\", \n",
    "           y=\"covert_instrumente_judgement\",\n",
    "            x_jitter=0.5,\n",
    "           data=a)\n",
    "plt.xlabel('SFH')\n",
    "plt.ylabel('Acceptability of lying')\n",
    "#plt.legend(title='Lying to the person wearing the device', 'ob')\n",
    "#axs.ax.legend(title='Lying to the person wearing the device')\n",
    "#import matplotlib.lines as mlines\n",
    "#blue_dot = mlines.Line2D([], [], color='blue', marker='o', linestyle='None',\n",
    "#                          markersize=10, label='Lying to the person wearing the device')\n",
    "#plt.legend(handles=[blue_dot])\n"
   ]
  },
  {
   "cell_type": "markdown",
   "metadata": {},
   "source": [
    "#### ...unless it is hidden from the user of the device"
   ]
  },
  {
   "cell_type": "code",
   "execution_count": 55,
   "metadata": {
    "ExecuteTime": {
     "end_time": "2021-06-30T03:55:45.845892Z",
     "start_time": "2021-06-30T03:55:45.721215Z"
    }
   },
   "outputs": [
    {
     "name": "stdout",
     "output_type": "stream",
     "text": [
      "M=3.30\n"
     ]
    },
    {
     "data": {
      "text/html": [
       "<div>\n",
       "<style scoped>\n",
       "    .dataframe tbody tr th:only-of-type {\n",
       "        vertical-align: middle;\n",
       "    }\n",
       "\n",
       "    .dataframe tbody tr th {\n",
       "        vertical-align: top;\n",
       "    }\n",
       "\n",
       "    .dataframe thead th {\n",
       "        text-align: right;\n",
       "    }\n",
       "</style>\n",
       "<table border=\"1\" class=\"dataframe\">\n",
       "  <thead>\n",
       "    <tr style=\"text-align: right;\">\n",
       "      <th></th>\n",
       "      <th>T</th>\n",
       "      <th>dof</th>\n",
       "      <th>tail</th>\n",
       "      <th>p-val</th>\n",
       "      <th>CI95%</th>\n",
       "      <th>cohen-d</th>\n",
       "      <th>BF10</th>\n",
       "      <th>power</th>\n",
       "    </tr>\n",
       "  </thead>\n",
       "  <tbody>\n",
       "    <tr>\n",
       "      <th>T-test</th>\n",
       "      <td>-14.90246</td>\n",
       "      <td>302</td>\n",
       "      <td>two-sided</td>\n",
       "      <td>4.985354e-38</td>\n",
       "      <td>[3.08, 3.53]</td>\n",
       "      <td>0.856124</td>\n",
       "      <td>4.893e+34</td>\n",
       "      <td>1.0</td>\n",
       "    </tr>\n",
       "  </tbody>\n",
       "</table>\n",
       "</div>"
      ],
      "text/plain": [
       "               T  dof       tail         p-val         CI95%   cohen-d  \\\n",
       "T-test -14.90246  302  two-sided  4.985354e-38  [3.08, 3.53]  0.856124   \n",
       "\n",
       "             BF10  power  \n",
       "T-test  4.893e+34    1.0  "
      ]
     },
     "execution_count": 55,
     "metadata": {},
     "output_type": "execute_result"
    },
    {
     "data": {
      "image/png": "[encoded data removed]",
      "text/plain": [
       "<Figure size 432x288 with 1 Axes>"
      ]
     },
     "metadata": {
      "needs_background": "light"
     },
     "output_type": "display_data"
    }
   ],
   "source": [
    "# Mentir aux autres \n",
    "sns.pointplot(data=data_df[data_df.covert_instrumente=='instrumente'], \n",
    "             y='covert_instrumente_judgement')\n",
    "print('M=%.2f'%data_df[data_df.covert_instrumente=='instrumente'].covert_instrumente_judgement.mean())\n",
    "pg.ttest(data_df[data_df.covert_instrumente=='instrumente'].groupby(['id']).covert_instrumente_judgement.mean(),5)"
   ]
  },
  {
   "cell_type": "code",
   "execution_count": 72,
   "metadata": {
    "ExecuteTime": {
     "end_time": "2021-06-30T03:58:54.581880Z",
     "start_time": "2021-06-30T03:58:54.472141Z"
    },
    "scrolled": false
   },
   "outputs": [
    {
     "name": "stdout",
     "output_type": "stream",
     "text": [
      "Heteroscedasticity:\n",
      "F(6,296)=1.28, p=0.2650\n",
      "\n",
      "                         Robust linear Model Regression Results                         \n",
      "========================================================================================\n",
      "Dep. Variable:     covert_instrumente_judgement   No. Observations:                  303\n",
      "Model:                                      RLM   Df Residuals:                      296\n",
      "Method:                                    IRLS   Df Model:                            6\n",
      "Norm:                                    HuberT                                         \n",
      "Scale Est.:                                 mad                                         \n",
      "Cov Type:                                    H3                                         \n",
      "Date:                          Wed, 30 Jun 2021                                         \n",
      "Time:                                  05:58:54                                         \n",
      "No. Iterations:                              12                                         \n",
      "==============================================================================\n",
      "                 coef    std err          z      P>|z|      [0.025      0.975]\n",
      "------------------------------------------------------------------------------\n",
      "const          0.6186      0.906      0.683      0.495      -1.156       2.394\n",
      "MFQ_NN         0.0698      0.034      2.075      0.038       0.004       0.136\n",
      "MFQ_EQ        -0.1395      0.040     -3.461      0.001      -0.218      -0.060\n",
      "MFQ_LO         0.0878      0.032      2.717      0.007       0.024       0.151\n",
      "MFQ_AU         0.0152      0.035      0.432      0.665      -0.054       0.084\n",
      "MFQ_PU         0.0930      0.025      3.656      0.000       0.043       0.143\n",
      "SF             0.0137      0.006      2.383      0.017       0.002       0.025\n",
      "==============================================================================\n",
      "\n",
      "If the model instance has been used for another fit with different fit parameters, then the fit options might not be the correct ones anymore .\n"
     ]
    },
    {
     "data": {
      "image/png": "[encoded data removed]",
      "text/plain": [
       "<Figure size 432x288 with 1 Axes>"
      ]
     },
     "metadata": {
      "needs_background": "light"
     },
     "output_type": "display_data"
    }
   ],
   "source": [
    "factors = ['MFQ_NN', 'MFQ_EQ', 'MFQ_LO', 'MFQ_AU', 'MFQ_PU', 'SF']\n",
    "\n",
    "agg_dict = {factor:'first' for factor in factors}\n",
    "agg_dict.update({'covert_instrumente_judgement':'mean'})\n",
    "a = data_df[data_df.covert_instrumente=='instrumente'].groupby(['id']).agg(agg_dict).reset_index()\n",
    "x_fit = sm.add_constant(a[factors])\n",
    "#rlm_model = sm.OLS(a.covert_instrumente_judgement, x_fit)\n",
    "#rlm_results = rlm_model.fit()\n",
    "\n",
    "rlm_model = sm.RLM(a.covert_instrumente_judgement,\n",
    "               x_fit,\n",
    "               M=sm.robust.norms.HuberT())\n",
    "rlm_results = rlm_model.fit(cov='H3')\n",
    "    \n",
    "# homoscedasticity\n",
    "bp = sm.stats.diagnostic.het_breuschpagan(rlm_results.resid, rlm_results.model.exog)\n",
    "print('Heteroscedasticity:\\nF(%d,%d)=%.2f, p=%.4f\\n'%(rlm_results.df_model,\n",
    "                               rlm_results.df_resid,\n",
    "                               bp[2],bp[3]))\n",
    "\n",
    "plt.plot(rlm_results.resid, rlm_results.fittedvalues,'.')\n",
    "plt.xlabel('Residuals')\n",
    "plt.ylabel('Predictions')\n",
    "print(rlm_results.summary())"
   ]
  },
  {
   "cell_type": "code",
   "execution_count": 93,
   "metadata": {
    "ExecuteTime": {
     "end_time": "2021-06-30T04:04:26.489902Z",
     "start_time": "2021-06-30T04:04:22.735868Z"
    },
    "scrolled": false
   },
   "outputs": [
    {
     "data": {
      "text/plain": [
       "(9.0, 26.0)"
      ]
     },
     "execution_count": 93,
     "metadata": {},
     "output_type": "execute_result"
    },
    {
     "data": {
      "image/png": "[encoded data removed]",
      "text/plain": [
       "<Figure size 360x360 with 1 Axes>"
      ]
     },
     "metadata": {
      "needs_background": "light"
     },
     "output_type": "display_data"
    }
   ],
   "source": [
    "axs=sns.lmplot(x=\"MFQ_PU\", \n",
    "           y=\"covert_instrumente_judgement\",\n",
    "            #x_jitter=0.1,\n",
    "           data=a,\n",
    "              robust=True)\n",
    "plt.xlabel('NN')\n",
    "plt.ylabel('Acceptability of lying')\n",
    "plt.xlim([9,26])\n",
    "#plt.legend(title='Lying to the person wearing the device', 'ob')\n",
    "#axs.ax.legend(title='Lying to the person wearing the device')\n",
    "#import matplotlib.lines as mlines\n",
    "#blue_dot = mlines.Line2D([], [], color='blue', marker='o', linestyle='None',\n",
    "#                          markersize=10, label='Lying to the person wearing the device')\n",
    "#plt.legend(handles=[blue_dot])\n"
   ]
  },
  {
   "cell_type": "markdown",
   "metadata": {},
   "source": [
    "### Acceptability of voice transformations is not influenced by seeking self profits"
   ]
  },
  {
   "cell_type": "markdown",
   "metadata": {},
   "source": [
    "There was no statistical difference of acceptability between overt situations which depicted the participant as the user benefiting of the device (M=6.43), and situations where the user was an unknown person (M=6.55)"
   ]
  },
  {
   "cell_type": "code",
   "execution_count": 58,
   "metadata": {
    "ExecuteTime": {
     "end_time": "2021-06-30T03:55:46.180997Z",
     "start_time": "2021-06-30T03:55:46.174021Z"
    }
   },
   "outputs": [
    {
     "data": {
      "text/html": [
       "<div>\n",
       "<style scoped>\n",
       "    .dataframe tbody tr th:only-of-type {\n",
       "        vertical-align: middle;\n",
       "    }\n",
       "\n",
       "    .dataframe tbody tr th {\n",
       "        vertical-align: top;\n",
       "    }\n",
       "\n",
       "    .dataframe thead th {\n",
       "        text-align: right;\n",
       "    }\n",
       "</style>\n",
       "<table border=\"1\" class=\"dataframe\">\n",
       "  <thead>\n",
       "    <tr style=\"text-align: right;\">\n",
       "      <th></th>\n",
       "      <th>acceptable</th>\n",
       "    </tr>\n",
       "    <tr>\n",
       "      <th>instrumente</th>\n",
       "      <th></th>\n",
       "    </tr>\n",
       "  </thead>\n",
       "  <tbody>\n",
       "    <tr>\n",
       "      <th>other</th>\n",
       "      <td>6.555011</td>\n",
       "    </tr>\n",
       "    <tr>\n",
       "      <th>participant</th>\n",
       "      <td>6.430556</td>\n",
       "    </tr>\n",
       "  </tbody>\n",
       "</table>\n",
       "</div>"
      ],
      "text/plain": [
       "             acceptable\n",
       "instrumente            \n",
       "other          6.555011\n",
       "participant    6.430556"
      ]
     },
     "execution_count": 58,
     "metadata": {},
     "output_type": "execute_result"
    }
   ],
   "source": [
    "data_df.groupby(['instrumente']).agg({'acceptable':'mean'})"
   ]
  },
  {
   "cell_type": "code",
   "execution_count": 59,
   "metadata": {
    "ExecuteTime": {
     "end_time": "2021-06-30T03:55:50.464542Z",
     "start_time": "2021-06-30T03:55:46.181966Z"
    }
   },
   "outputs": [
    {
     "name": "stdout",
     "output_type": "stream",
     "text": [
      "\n",
      "=============\n",
      "ANOVA SUMMARY\n",
      "=============\n",
      "\n",
      "Source         ddof1    ddof2      F    p-unc    np2\n",
      "-----------  -------  -------  -----  -------  -----\n",
      "instrumente        1      301  0.372    0.543  0.001\n",
      "\n"
     ]
    },
    {
     "data": {
      "image/png": "[encoded data removed]",
      "text/plain": [
       "<Figure size 360x360 with 1 Axes>"
      ]
     },
     "metadata": {
      "needs_background": "light"
     },
     "output_type": "display_data"
    }
   ],
   "source": [
    "sns.catplot(data=data_df, \n",
    "            kind='point',\n",
    "            x='instrumente',\n",
    "            y='acceptable',\n",
    "            units='id',\n",
    "            bootstrap=1000,\n",
    "            ci=95,\n",
    "            dodge=True)\n",
    "\n",
    "aov = pg.anova(data=data_df.groupby(['id']).agg({'acceptable':'mean',\n",
    "                                                'instrumente':'first'}).reset_index(),\n",
    "               dv='acceptable',\n",
    "               between=['instrumente'])\n",
    "pg.print_table(aov)"
   ]
  },
  {
   "cell_type": "markdown",
   "metadata": {},
   "source": [
    "Neither did the effect of self/other interact with any of the other variables: regardless of whether the user was themselves or others, participants thought similarly of differences between situations meant to repair and enhance (F(1,201)=1.68, p=.20), of differences between situations involving smiling, anger or anxiety (F(1,201)=1.43, p=.23), and of differences between devices affecting the user's production, perception or feedback (F(2,602)=2.32, p=.099)."
   ]
  },
  {
   "cell_type": "code",
   "execution_count": 60,
   "metadata": {
    "ExecuteTime": {
     "end_time": "2021-06-30T03:55:50.512415Z",
     "start_time": "2021-06-30T03:55:50.465540Z"
    }
   },
   "outputs": [
    {
     "name": "stdout",
     "output_type": "stream",
     "text": [
      "\n",
      "=============\n",
      "ANOVA SUMMARY\n",
      "=============\n",
      "\n",
      "Source              SS    DF1    DF2      MS       F    p-unc    np2      eps\n",
      "--------------  ------  -----  -----  ------  ------  -------  -----  -------\n",
      "instrumente      2.346      1    301   2.346   0.372    0.543  0.001  nan\n",
      "repair_enhance  32.036      1    301  32.036  47.175    0.000  0.135    1.000\n",
      "Interaction      1.140      1    301   1.140   1.679    0.196  0.006  nan\n",
      "\n"
     ]
    }
   ],
   "source": [
    "aov = pg.mixed_anova(dv='acceptable',\n",
    "                     between='instrumente',\n",
    "                     within='repair_enhance',\n",
    "                     subject='id',\n",
    "                     data=data_df)\n",
    "pg.print_table(aov)"
   ]
  },
  {
   "cell_type": "code",
   "execution_count": 61,
   "metadata": {
    "ExecuteTime": {
     "end_time": "2021-06-30T03:55:50.619129Z",
     "start_time": "2021-06-30T03:55:50.513415Z"
    }
   },
   "outputs": [
    {
     "name": "stdout",
     "output_type": "stream",
     "text": [
      "\n",
      "=============\n",
      "ANOVA SUMMARY\n",
      "=============\n",
      "\n",
      "Source            SS    DF1    DF2     MS      F    p-unc    np2      eps\n",
      "-------------  -----  -----  -----  -----  -----  -------  -----  -------\n",
      "instrumente    3.520      1    301  3.520  0.372    0.543  0.001  nan\n",
      "left_right_fb  9.473      2    602  4.737  7.495    0.001  0.024    0.989\n",
      "Interaction    0.059      2    602  0.029  0.047    0.955  0.000  nan\n",
      "\n"
     ]
    }
   ],
   "source": [
    "aov = pg.mixed_anova(dv='acceptable',\n",
    "                     between='instrumente',\n",
    "                     within='left_right_fb',\n",
    "                     subject='id',\n",
    "                     data=data_df)\n",
    "pg.print_table(aov)"
   ]
  },
  {
   "cell_type": "code",
   "execution_count": 62,
   "metadata": {
    "ExecuteTime": {
     "end_time": "2021-06-30T03:55:50.669011Z",
     "start_time": "2021-06-30T03:55:50.620128Z"
    }
   },
   "outputs": [
    {
     "name": "stdout",
     "output_type": "stream",
     "text": [
      "\n",
      "=============\n",
      "ANOVA SUMMARY\n",
      "=============\n",
      "\n",
      "Source              SS    DF1    DF2      MS       F    p-unc    np2      eps\n",
      "--------------  ------  -----  -----  ------  ------  -------  -----  -------\n",
      "instrumente      2.346      1    301   2.346   0.372    0.543  0.001  nan\n",
      "transformation  18.425      1    301  18.425  55.115    0.000  0.155    1.000\n",
      "Interaction      0.480      1    301   0.480   1.434    0.232  0.005  nan\n",
      "\n"
     ]
    }
   ],
   "source": [
    "aov = pg.mixed_anova(dv='acceptable',\n",
    "                     between='instrumente',\n",
    "                     within='transformation',\n",
    "                     subject='id',\n",
    "                     data=data_df)\n",
    "pg.print_table(aov)"
   ]
  },
  {
   "cell_type": "markdown",
   "metadata": {},
   "source": [
    "Similarly, participants did not judge less acceptable the covert situations where they were hidden the true purpose of the device (regardless of whether they were its user, or not), compared to situations where it was hidden to unknown others (F(1,302)=0.0026, p=.87"
   ]
  },
  {
   "cell_type": "code",
   "execution_count": 63,
   "metadata": {
    "ExecuteTime": {
     "end_time": "2021-06-30T03:55:58.963853Z",
     "start_time": "2021-06-30T03:55:50.669962Z"
    },
    "scrolled": false
   },
   "outputs": [
    {
     "name": "stdout",
     "output_type": "stream",
     "text": [
      "\n",
      "=============\n",
      "ANOVA SUMMARY\n",
      "=============\n",
      "\n",
      "Source           ddof1    ddof2      F    p-unc    np2    eps\n",
      "-------------  -------  -------  -----  -------  -----  -----\n",
      "covert_person        1      302  0.026    0.871  0.000  1.000\n",
      "\n"
     ]
    },
    {
     "data": {
      "image/png": "[encoded data removed]",
      "text/plain": [
       "<Figure size 360x360 with 1 Axes>"
      ]
     },
     "metadata": {
      "needs_background": "light"
     },
     "output_type": "display_data"
    }
   ],
   "source": [
    "sns.catplot(data=data_df, \n",
    "            kind='point',\n",
    "            x='covert_person',\n",
    "            y='covert_person_judgement',\n",
    "            units='id',\n",
    "#            hue='instrumente',\n",
    "            bootstrap=1000,\n",
    "            ci=95,\n",
    "            dodge=True)\n",
    "aov = pg.rm_anova(data=data_df.groupby(['id', 'covert_person']).agg({'covert_person_judgement':'mean'}).reset_index(),\n",
    "                  dv='covert_person_judgement',\n",
    "                  within='covert_person',\n",
    "                  subject='id')\n",
    "pg.print_table(aov)"
   ]
  },
  {
   "cell_type": "markdown",
   "metadata": {},
   "source": [
    "### The nature of the emotion impacts the moral acceptability of the transformation"
   ]
  },
  {
   "cell_type": "markdown",
   "metadata": {},
   "source": [
    "Situations in which transformations aimed at weakening the two negative emotions of anxiety (M=6.8) or anger (M=6.5) were better accepted than situations involving transformations enhancing smile"
   ]
  },
  {
   "cell_type": "code",
   "execution_count": 64,
   "metadata": {
    "ExecuteTime": {
     "end_time": "2021-06-30T03:56:15.369230Z",
     "start_time": "2021-06-30T03:55:58.964837Z"
    }
   },
   "outputs": [
    {
     "name": "stdout",
     "output_type": "stream",
     "text": [
      "\n",
      "=============\n",
      "ANOVA SUMMARY\n",
      "=============\n",
      "\n",
      "Source                               SS    ddof1    ddof2      MS       F    p-unc    p-GG-corr    np2    eps\n",
      "-------------------------------  ------  -------  -------  ------  ------  -------  -----------  -----  -----\n",
      "transformation                   36.850        1      302  36.850  55.036    0.000        0.000  0.154  1.000\n",
      "repair_enhance                   64.072        1      302  64.072  47.069    0.000        0.000  0.135  1.000\n",
      "transformation * repair_enhance   3.667        1      302   3.667   6.948    0.009        0.009  0.022  1.000\n",
      "\n"
     ]
    },
    {
     "data": {
      "image/png": "[encoded data removed]",
      "text/plain": [
       "<Figure size 432x288 with 1 Axes>"
      ]
     },
     "metadata": {
      "needs_background": "light"
     },
     "output_type": "display_data"
    }
   ],
   "source": [
    "sns.pointplot(data=data_df, \n",
    "            x='repair_enhance',\n",
    "            y='acceptable',\n",
    "            hue='transformation',\n",
    "            units='id',\n",
    "            ci=95,\n",
    "            dodge=True)\n",
    "# RM-ANOVA\n",
    "aov = pg.rm_anova(data=data_df.groupby(['id', 'transformation', 'repair_enhance']).agg({'acceptable':'mean'}).reset_index(),\n",
    "                  dv='acceptable',\n",
    "                  within=['transformation','repair_enhance'],\n",
    "                  subject='id')\n",
    "pg.print_table(aov)"
   ]
  },
  {
   "cell_type": "code",
   "execution_count": 65,
   "metadata": {
    "ExecuteTime": {
     "end_time": "2021-06-30T03:57:04.280813Z",
     "start_time": "2021-06-30T03:56:15.370228Z"
    }
   },
   "outputs": [
    {
     "name": "stdout",
     "output_type": "stream",
     "text": [
      "\n",
      "=============\n",
      "ANOVA SUMMARY\n",
      "=============\n",
      "\n",
      "Source                                    SS    ddof1    ddof2      MS       F    p-unc    p-GG-corr    np2    eps\n",
      "------------------------------------  ------  -------  -------  ------  ------  -------  -----------  -----  -----\n",
      "smile_anxiety_anger                   59.539        2      604  29.769  24.479    0.000        0.000  0.075  0.919\n",
      "repair_enhance                        76.324        1      302  76.324  34.851    0.000        0.000  0.103  1.000\n",
      "smile_anxiety_anger * repair_enhance  46.966        2      604  23.483  21.314    0.000        0.000  0.066  0.871\n",
      "\n"
     ]
    },
    {
     "data": {
      "image/png": "[encoded data removed]",
      "text/plain": [
       "<Figure size 1440x360 with 2 Axes>"
      ]
     },
     "metadata": {
      "needs_background": "light"
     },
     "output_type": "display_data"
    }
   ],
   "source": [
    "fig = plt.figure(figsize=(20,5))\n",
    "plt.subplot(121)\n",
    "sns.pointplot(data=data_df, \n",
    "            x='repair_enhance',\n",
    "            y='acceptable',\n",
    "            hue='smile_anxiety_anger',\n",
    "            units='id',\n",
    "            ci=95,\n",
    "            dodge=True)\n",
    "plt.subplot(122)\n",
    "sns.pointplot(data=data_df, \n",
    "            x='smile_anxiety_anger',\n",
    "            y='acceptable',\n",
    "            hue='repair_enhance',\n",
    "            units='id',\n",
    "            ci=95,\n",
    "            dodge=True)\n",
    "# RM-ANOVA\n",
    "aov = pg.rm_anova(data=data_df.groupby(['id', 'smile_anxiety_anger', 'repair_enhance']).agg({'acceptable':'mean'}).reset_index(),\n",
    "                  dv='acceptable',\n",
    "                  within=['smile_anxiety_anger','repair_enhance'],\n",
    "                  subject='id')\n",
    "pg.print_table(aov)"
   ]
  },
  {
   "cell_type": "markdown",
   "metadata": {},
   "source": [
    "The effect of emotion also interacted significantly with the repair vs enhance factor, with transformations aiming to weaken negative emotions benefiting more of the therapeutic condition ($\\Delta$=+0.56) than the transformation targeting positive emotions ($\\Delta$=+0.35). The effect was maximal for the repairment of anxiety (Repair: M=7.17; Enhance: M=6.34). "
   ]
  },
  {
   "cell_type": "code",
   "execution_count": 66,
   "metadata": {
    "ExecuteTime": {
     "end_time": "2021-06-30T03:57:04.291784Z",
     "start_time": "2021-06-30T03:57:04.281810Z"
    }
   },
   "outputs": [
    {
     "data": {
      "text/html": [
       "<div>\n",
       "<style scoped>\n",
       "    .dataframe tbody tr th:only-of-type {\n",
       "        vertical-align: middle;\n",
       "    }\n",
       "\n",
       "    .dataframe tbody tr th {\n",
       "        vertical-align: top;\n",
       "    }\n",
       "\n",
       "    .dataframe thead th {\n",
       "        text-align: right;\n",
       "    }\n",
       "</style>\n",
       "<table border=\"1\" class=\"dataframe\">\n",
       "  <thead>\n",
       "    <tr style=\"text-align: right;\">\n",
       "      <th></th>\n",
       "      <th></th>\n",
       "      <th>acceptable</th>\n",
       "    </tr>\n",
       "    <tr>\n",
       "      <th>repair_enhance</th>\n",
       "      <th>smile_anxiety_anger</th>\n",
       "      <th></th>\n",
       "    </tr>\n",
       "  </thead>\n",
       "  <tbody>\n",
       "    <tr>\n",
       "      <th rowspan=\"3\" valign=\"top\">EN</th>\n",
       "      <th>AN</th>\n",
       "      <td>6.343234</td>\n",
       "    </tr>\n",
       "    <tr>\n",
       "      <th>CO</th>\n",
       "      <td>6.462046</td>\n",
       "    </tr>\n",
       "    <tr>\n",
       "      <th>SM</th>\n",
       "      <td>6.144114</td>\n",
       "    </tr>\n",
       "    <tr>\n",
       "      <th rowspan=\"3\" valign=\"top\">RE</th>\n",
       "      <th>AN</th>\n",
       "      <td>7.173267</td>\n",
       "    </tr>\n",
       "    <tr>\n",
       "      <th>CO</th>\n",
       "      <td>6.511551</td>\n",
       "    </tr>\n",
       "    <tr>\n",
       "      <th>SM</th>\n",
       "      <td>6.493949</td>\n",
       "    </tr>\n",
       "  </tbody>\n",
       "</table>\n",
       "</div>"
      ],
      "text/plain": [
       "                                    acceptable\n",
       "repair_enhance smile_anxiety_anger            \n",
       "EN             AN                     6.343234\n",
       "               CO                     6.462046\n",
       "               SM                     6.144114\n",
       "RE             AN                     7.173267\n",
       "               CO                     6.511551\n",
       "               SM                     6.493949"
      ]
     },
     "execution_count": 66,
     "metadata": {},
     "output_type": "execute_result"
    }
   ],
   "source": [
    "data_df.groupby(['repair_enhance','smile_anxiety_anger']).agg({'acceptable':'mean'})"
   ]
  },
  {
   "cell_type": "code",
   "execution_count": 67,
   "metadata": {
    "ExecuteTime": {
     "end_time": "2021-06-30T03:57:04.374562Z",
     "start_time": "2021-06-30T03:57:04.292787Z"
    },
    "scrolled": false
   },
   "outputs": [
    {
     "name": "stdout",
     "output_type": "stream",
     "text": [
      "\n",
      "==============\n",
      "POST HOC TESTS\n",
      "==============\n",
      "\n",
      "Contrast                              smile_anxiety_anger    A    B    Paired    Parametric         T      dof  Tail         p-unc    p-corr  p-adjust                  BF10    cohen\n",
      "------------------------------------  ---------------------  ---  ---  --------  ------------  ------  -------  ---------  -------  --------  ----------  ------------------  -------\n",
      "smile_anxiety_anger                   -                      AN   CO   True      True           3.771  302.000  two-sided    0.000     0.001  bonf                    62.799    0.145\n",
      "smile_anxiety_anger                   -                      AN   SM   True      True           7.733  302.000  two-sided    0.000     0.000  bonf           35840000000.000    0.240\n",
      "smile_anxiety_anger                   -                      CO   SM   True      True           2.784  302.000  two-sided    0.006     0.017  bonf                     2.849    0.086\n",
      "repair_enhance                        -                      EN   RE   True      True          -5.903  302.000  two-sided    0.000   nan      nan                 806900.000   -0.219\n",
      "smile_anxiety_anger * repair_enhance  AN                     EN   RE   True      True          -8.820  302.000  two-sided    0.000     0.000  bonf        51400000000000.000   -0.429\n",
      "smile_anxiety_anger * repair_enhance  CO                     EN   RE   True      True          -0.422  302.000  two-sided    0.673     1.000  bonf                     0.070   -0.022\n",
      "smile_anxiety_anger * repair_enhance  SM                     EN   RE   True      True          -4.383  302.000  two-sided    0.000     0.000  bonf                   655.043   -0.173\n",
      "\n"
     ]
    }
   ],
   "source": [
    "# FDR-corrected post hocs\n",
    "posthoc = pg.pairwise_ttests(data=data_df.groupby(['id', 'smile_anxiety_anger', 'repair_enhance']).agg({'acceptable':'mean'}).reset_index(),\n",
    "                             dv='acceptable',\n",
    "                             within=['smile_anxiety_anger','repair_enhance'],\n",
    "                             subject='id',\n",
    "                             parametric=True, padjust='bonf', effsize='cohen')\n",
    "pg.print_table(posthoc, floatfmt='.3f')"
   ]
  },
  {
   "cell_type": "markdown",
   "metadata": {},
   "source": [
    "Similarly, in covert situations, it was more more acceptable to hide the purpose of a transformation aiming to weaken negative emotions than a transformation aiming to enhance smile"
   ]
  },
  {
   "cell_type": "code",
   "execution_count": 68,
   "metadata": {
    "ExecuteTime": {
     "end_time": "2021-06-30T03:57:16.528088Z",
     "start_time": "2021-06-30T03:57:04.377554Z"
    }
   },
   "outputs": [
    {
     "data": {
      "text/plain": [
       "<matplotlib.axes._subplots.AxesSubplot at 0x1fbb7f1da20>"
      ]
     },
     "execution_count": 68,
     "metadata": {},
     "output_type": "execute_result"
    },
    {
     "data": {
      "image/png": "[encoded data removed]",
      "text/plain": [
       "<Figure size 1440x360 with 1 Axes>"
      ]
     },
     "metadata": {
      "needs_background": "light"
     },
     "output_type": "display_data"
    }
   ],
   "source": [
    "fig = plt.figure(figsize=(20,5))\n",
    "sns.pointplot(data=data_df.groupby(['id', 'smile_anxiety_anger', 'repair_enhance']).agg({'covert_person_judgement':'mean'}).reset_index(), \n",
    "                        x='smile_anxiety_anger',\n",
    "            y='covert_person_judgement',\n",
    "            units='id',\n",
    "            ci=95,\n",
    "            dodge=True)\n"
   ]
  },
  {
   "cell_type": "code",
   "execution_count": 69,
   "metadata": {
    "ExecuteTime": {
     "end_time": "2021-06-30T03:57:16.587270Z",
     "start_time": "2021-06-30T03:57:16.529085Z"
    }
   },
   "outputs": [
    {
     "name": "stdout",
     "output_type": "stream",
     "text": [
      "\n",
      "=============\n",
      "ANOVA SUMMARY\n",
      "=============\n",
      "\n",
      "Source                                    SS    ddof1    ddof2      MS       F    p-unc    p-GG-corr    np2    eps\n",
      "------------------------------------  ------  -------  -------  ------  ------  -------  -----------  -----  -----\n",
      "smile_anxiety_anger                   11.643        2      604   5.822   8.389    0.000        0.001  0.027  0.841\n",
      "repair_enhance                         1.394        1      302   1.394   0.969    0.326        0.326  0.003  1.000\n",
      "smile_anxiety_anger * repair_enhance  36.810        2      604  18.405  31.794    0.000        0.000  0.095  0.923\n",
      "\n"
     ]
    }
   ],
   "source": [
    "# RM-ANOVA\n",
    "aov = pg.rm_anova(data=data_df.groupby(['id', 'smile_anxiety_anger', 'repair_enhance']).agg({'covert_person_judgement':'mean'}).reset_index(),\n",
    "                  dv='covert_person_judgement',\n",
    "                  within=['smile_anxiety_anger','repair_enhance'],\n",
    "                  subject='id')\n",
    "pg.print_table(aov)"
   ]
  },
  {
   "cell_type": "markdown",
   "metadata": {},
   "source": [
    "None of the individual differences on MFQ or SFH regressed the difference between positive and negative transformations"
   ]
  },
  {
   "cell_type": "code",
   "execution_count": 70,
   "metadata": {
    "ExecuteTime": {
     "end_time": "2021-06-30T03:57:16.985405Z",
     "start_time": "2021-06-30T03:57:16.588304Z"
    }
   },
   "outputs": [
    {
     "name": "stdout",
     "output_type": "stream",
     "text": [
      "Effect: AN\n",
      "Heteroscedasticity:\n",
      "F(6,296)=0.59, p=0.7408\n",
      "\n",
      "                            OLS Regression Results                            \n",
      "==============================================================================\n",
      "Dep. Variable:        acceptable_norm   R-squared:                       0.031\n",
      "Model:                            OLS   Adj. R-squared:                  0.011\n",
      "Method:                 Least Squares   F-statistic:                     1.582\n",
      "Date:                Wed, 30 Jun 2021   Prob (F-statistic):              0.152\n",
      "Time:                        05:57:16   Log-Likelihood:                -421.20\n",
      "No. Observations:                 303   AIC:                             856.4\n",
      "Df Residuals:                     296   BIC:                             882.4\n",
      "Df Model:                           6                                         \n",
      "Covariance Type:            nonrobust                                         \n",
      "==============================================================================\n",
      "                 coef    std err          t      P>|t|      [0.025      0.975]\n",
      "------------------------------------------------------------------------------\n",
      "const          1.0923      0.520      2.100      0.037       0.069       2.116\n",
      "MFQ_NN        -0.0247      0.019     -1.320      0.188      -0.062       0.012\n",
      "MFQ_EQ         0.0202      0.023      0.881      0.379      -0.025       0.065\n",
      "MFQ_LO         0.0124      0.018      0.694      0.488      -0.023       0.047\n",
      "MFQ_AU        -0.0057      0.019     -0.297      0.767      -0.043       0.032\n",
      "MFQ_PU        -0.0247      0.014     -1.792      0.074      -0.052       0.002\n",
      "SF            -0.0046      0.003     -1.472      0.142      -0.011       0.002\n",
      "==============================================================================\n",
      "Omnibus:                       36.304   Durbin-Watson:                   1.916\n",
      "Prob(Omnibus):                  0.000   Jarque-Bera (JB):               52.386\n",
      "Skew:                           0.775   Prob(JB):                     4.21e-12\n",
      "Kurtosis:                       4.322   Cond. No.                         668.\n",
      "==============================================================================\n",
      "\n",
      "Notes:\n",
      "[1] Standard Errors assume that the covariance matrix of the errors is correctly specified.\n",
      "Effect: CO\n",
      "Heteroscedasticity:\n",
      "F(6,296)=0.73, p=0.6290\n",
      "\n",
      "                            OLS Regression Results                            \n",
      "==============================================================================\n",
      "Dep. Variable:        acceptable_norm   R-squared:                       0.023\n",
      "Model:                            OLS   Adj. R-squared:                  0.003\n",
      "Method:                 Least Squares   F-statistic:                     1.137\n",
      "Date:                Wed, 30 Jun 2021   Prob (F-statistic):              0.340\n",
      "Time:                        05:57:16   Log-Likelihood:                -440.51\n",
      "No. Observations:                 303   AIC:                             895.0\n",
      "Df Residuals:                     296   BIC:                             921.0\n",
      "Df Model:                           6                                         \n",
      "Covariance Type:            nonrobust                                         \n",
      "==============================================================================\n",
      "                 coef    std err          t      P>|t|      [0.025      0.975]\n",
      "------------------------------------------------------------------------------\n",
      "const         -0.0663      0.554     -0.120      0.905      -1.157       1.024\n",
      "MFQ_NN        -0.0011      0.020     -0.053      0.958      -0.040       0.038\n",
      "MFQ_EQ         0.0045      0.024      0.184      0.854      -0.044       0.053\n",
      "MFQ_LO         0.0405      0.019      2.130      0.034       0.003       0.078\n",
      "MFQ_AU        -0.0449      0.020     -2.208      0.028      -0.085      -0.005\n",
      "MFQ_PU         0.0019      0.015      0.128      0.898      -0.027       0.031\n",
      "SF             0.0016      0.003      0.477      0.634      -0.005       0.008\n",
      "==============================================================================\n",
      "Omnibus:                       17.485   Durbin-Watson:                   1.905\n",
      "Prob(Omnibus):                  0.000   Jarque-Bera (JB):               43.729\n",
      "Skew:                           0.179   Prob(JB):                     3.19e-10\n",
      "Kurtosis:                       4.827   Cond. No.                         668.\n",
      "==============================================================================\n",
      "\n",
      "Notes:\n",
      "[1] Standard Errors assume that the covariance matrix of the errors is correctly specified.\n"
     ]
    },
    {
     "data": {
      "image/png": "[encoded data removed]",
      "text/plain": [
       "<Figure size 432x288 with 1 Axes>"
      ]
     },
     "metadata": {
      "needs_background": "light"
     },
     "output_type": "display_data"
    }
   ],
   "source": [
    "factors = ['MFQ_NN', 'MFQ_EQ', 'MFQ_LO', 'MFQ_AU', 'MFQ_PU', 'SF']\n",
    "\n",
    "# normalize anger & smile vs anxiety\n",
    "agg_dict = {factor:'first' for factor in factors}\n",
    "agg_dict.update({'acceptable':'mean'})\n",
    "a = data_df.groupby(['id','smile_anxiety_anger']).agg(agg_dict).reset_index()\n",
    "anxiety_ratings = a[a.smile_anxiety_anger==\"SM\"][['id','acceptable']].set_index(\"id\")\n",
    "anxiety_ratings.rename(columns={'acceptable':'smile'}, inplace=True)\n",
    "a=a.join(anxiety_ratings, on='id')\n",
    "a['acceptable_norm'] = a.acceptable - a.smile\n",
    "\n",
    "for effect in ['AN','CO']: \n",
    "    print('Effect: %s'%effect)\n",
    "    x_fit = sm.add_constant(a[a.smile_anxiety_anger==effect][factors])\n",
    "    rlm_model = sm.OLS(a[a.smile_anxiety_anger==effect].acceptable_norm, x_fit)\n",
    "    rlm_results = rlm_model.fit()\n",
    "\n",
    "    #rlm_model = sm.api.RLM(a.acceptable_norm,\n",
    "    #               x_fit,\n",
    "    #               M=sm.api.robust.norms.HuberT())\n",
    "    #rlm_results = rlm_model.fit(cov='H3')\n",
    "    \n",
    "    # homoscedasticity\n",
    "    bp = sm.stats.diagnostic.het_breuschpagan(rlm_results.resid, rlm_results.model.exog)\n",
    "    print('Heteroscedasticity:\\nF(%d,%d)=%.2f, p=%.4f\\n'%(rlm_results.df_model,\n",
    "                               rlm_results.df_resid,\n",
    "                               bp[2],bp[3]))\n",
    "\n",
    "    plt.plot(rlm_results.resid, rlm_results.fittedvalues,'.')\n",
    "    plt.xlabel('Residuals')\n",
    "    plt.ylabel('Predictions')\n",
    "\n",
    "    print(rlm_results.summary())"
   ]
  },
  {
   "cell_type": "code",
   "execution_count": null,
   "metadata": {},
   "outputs": [],
   "source": []
  }
 ],
 "metadata": {
  "kernelspec": {
   "display_name": "Python 3",
   "language": "python",
   "name": "python3"
  },
  "language_info": {
   "codemirror_mode": {
    "name": "ipython",
    "version": 3
   },
   "file_extension": ".py",
   "mimetype": "text/x-python",
   "name": "python",
   "nbconvert_exporter": "python",
   "pygments_lexer": "ipython3",
   "version": "3.6.8"
  },
  "toc": {
   "base_numbering": 1,
   "nav_menu": {},
   "number_sections": true,
   "sideBar": true,
   "skip_h1_title": true,
   "title_cell": "Table of Contents",
   "title_sidebar": "Contents",
   "toc_cell": false,
   "toc_position": {
    "height": "559.2px",
    "left": "26px",
    "top": "110.533px",
    "width": "349.4px"
   },
   "toc_section_display": true,
   "toc_window_display": true
  }
 },
 "nbformat": 4,
 "nbformat_minor": 4
}
